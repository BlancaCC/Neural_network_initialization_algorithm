{
 "cells": [
  {
   "cell_type": "code",
   "execution_count": 1,
   "metadata": {},
   "outputs": [
    {
     "name": "stdout",
     "output_type": "stream",
     "text": [
      "<class 'pandas.core.frame.DataFrame'>\n",
      "RangeIndex: 4600 entries, 0 to 4599\n",
      "Data columns (total 18 columns):\n",
      " #   Column         Non-Null Count  Dtype  \n",
      "---  ------         --------------  -----  \n",
      " 0   date           4600 non-null   object \n",
      " 1   price          4600 non-null   float64\n",
      " 2   bedrooms       4600 non-null   float64\n",
      " 3   bathrooms      4600 non-null   float64\n",
      " 4   sqft_living    4600 non-null   int64  \n",
      " 5   sqft_lot       4600 non-null   int64  \n",
      " 6   floors         4600 non-null   float64\n",
      " 7   waterfront     4600 non-null   int64  \n",
      " 8   view           4600 non-null   int64  \n",
      " 9   condition      4600 non-null   int64  \n",
      " 10  sqft_above     4600 non-null   int64  \n",
      " 11  sqft_basement  4600 non-null   int64  \n",
      " 12  yr_built       4600 non-null   int64  \n",
      " 13  yr_renovated   4600 non-null   int64  \n",
      " 14  street         4600 non-null   object \n",
      " 15  city           4600 non-null   object \n",
      " 16  statezip       4600 non-null   object \n",
      " 17  country        4600 non-null   object \n",
      "dtypes: float64(4), int64(9), object(5)\n",
      "memory usage: 647.0+ KB\n"
     ]
    },
    {
     "data": {
      "text/plain": [
       "Index(['date', 'price', 'bedrooms', 'bathrooms', 'sqft_living', 'sqft_lot',\n",
       "       'floors', 'waterfront', 'view', 'condition', 'sqft_above',\n",
       "       'sqft_basement', 'yr_built', 'yr_renovated', 'street', 'city',\n",
       "       'statezip', 'country'],\n",
       "      dtype='object')"
      ]
     },
     "execution_count": 1,
     "metadata": {},
     "output_type": "execute_result"
    }
   ],
   "source": [
    "import pandas as pd\n",
    "\n",
    "file_data = './Data/HousePricePrediction/data.csv'\n",
    "df = pd.read_csv(file_data)\n",
    "df.info()\n",
    "\n",
    "df.columns"
   ]
  },
  {
   "attachments": {},
   "cell_type": "markdown",
   "metadata": {},
   "source": [
    "One hot encoding\n",
    "for street is too bigger"
   ]
  },
  {
   "cell_type": "code",
   "execution_count": 2,
   "metadata": {},
   "outputs": [
    {
     "name": "stdout",
     "output_type": "stream",
     "text": [
      "   street_1 View Ln NE  street_10 W Etruria St  street_100 20th Ave E  \\\n",
      "0                    0                       0                      0   \n",
      "1                    0                       0                      0   \n",
      "2                    0                       0                      0   \n",
      "3                    0                       0                      0   \n",
      "4                    0                       0                      0   \n",
      "\n",
      "   street_100 24th Ave E  street_100 Mt Si Pl NW  \\\n",
      "0                      0                       0   \n",
      "1                      0                       0   \n",
      "2                      0                       0   \n",
      "3                      0                       0   \n",
      "4                      0                       0   \n",
      "\n",
      "   street_1000 Mountain View Blvd SE  street_10000-10026 S 100th St  \\\n",
      "0                                  0                              0   \n",
      "1                                  0                              0   \n",
      "2                                  0                              0   \n",
      "3                                  0                              0   \n",
      "4                                  0                              0   \n",
      "\n",
      "   street_10005 16th Ave S  street_10009 SE 247th Pl  street_1001 SW 102nd St  \\\n",
      "0                        0                         0                        0   \n",
      "1                        0                         0                        0   \n",
      "2                        0                         0                        0   \n",
      "3                        0                         0                        0   \n",
      "4                        0                         0                        0   \n",
      "\n",
      "   ...  street_Indian Trail  street_Nuthatch Trail  street_SE 170th Pl  \\\n",
      "0  ...                    0                      0                   0   \n",
      "1  ...                    0                      0                   0   \n",
      "2  ...                    0                      0                   0   \n",
      "3  ...                    0                      0                   0   \n",
      "4  ...                    0                      0                   0   \n",
      "\n",
      "   street_SE 21st Ct  street_Schmitz Park to Alki Trail  \\\n",
      "0                  0                                  0   \n",
      "1                  0                                  0   \n",
      "2                  0                                  0   \n",
      "3                  0                                  0   \n",
      "4                  0                                  0   \n",
      "\n",
      "   street_Shangri-La Way NW  street_Sunrise Loop Trail  \\\n",
      "0                         0                          0   \n",
      "1                         0                          0   \n",
      "2                         0                          0   \n",
      "3                         0                          0   \n",
      "4                         0                          0   \n",
      "\n",
      "   street_Tolt Pipeline Trail  street_Trossachs Blvd SE  \\\n",
      "0                           0                         0   \n",
      "1                           0                         0   \n",
      "2                           0                         0   \n",
      "3                           0                         0   \n",
      "4                           0                         0   \n",
      "\n",
      "   street_Valley View Trail  \n",
      "0                         0  \n",
      "1                         0  \n",
      "2                         0  \n",
      "3                         0  \n",
      "4                         0  \n",
      "\n",
      "[5 rows x 4525 columns]\n"
     ]
    }
   ],
   "source": [
    "y = pd.get_dummies(df.street, prefix='street')\n",
    "print(y.head())"
   ]
  },
  {
   "cell_type": "code",
   "execution_count": 3,
   "metadata": {},
   "outputs": [
    {
     "name": "stdout",
     "output_type": "stream",
     "text": [
      "   city_Algona  city_Auburn  city_Beaux Arts Village  city_Bellevue  \\\n",
      "0            0            0                        0              0   \n",
      "1            0            0                        0              0   \n",
      "2            0            0                        0              0   \n",
      "3            0            0                        0              1   \n",
      "4            0            0                        0              0   \n",
      "\n",
      "   city_Black Diamond  city_Bothell  city_Burien  city_Carnation  \\\n",
      "0                   0             0            0               0   \n",
      "1                   0             0            0               0   \n",
      "2                   0             0            0               0   \n",
      "3                   0             0            0               0   \n",
      "4                   0             0            0               0   \n",
      "\n",
      "   city_Clyde Hill  city_Covington  ...  city_SeaTac  city_Seattle  \\\n",
      "0                0               0  ...            0             0   \n",
      "1                0               0  ...            0             1   \n",
      "2                0               0  ...            0             0   \n",
      "3                0               0  ...            0             0   \n",
      "4                0               0  ...            0             0   \n",
      "\n",
      "   city_Shoreline  city_Skykomish  city_Snoqualmie  city_Snoqualmie Pass  \\\n",
      "0               1               0                0                     0   \n",
      "1               0               0                0                     0   \n",
      "2               0               0                0                     0   \n",
      "3               0               0                0                     0   \n",
      "4               0               0                0                     0   \n",
      "\n",
      "   city_Tukwila  city_Vashon  city_Woodinville  city_Yarrow Point  \n",
      "0             0            0                 0                  0  \n",
      "1             0            0                 0                  0  \n",
      "2             0            0                 0                  0  \n",
      "3             0            0                 0                  0  \n",
      "4             0            0                 0                  0  \n",
      "\n",
      "[5 rows x 44 columns]\n"
     ]
    }
   ],
   "source": [
    "y = pd.get_dummies(df.city, prefix='city')\n",
    "print(y.head())"
   ]
  },
  {
   "cell_type": "code",
   "execution_count": 4,
   "metadata": {},
   "outputs": [
    {
     "name": "stdout",
     "output_type": "stream",
     "text": [
      "   country_USA\n",
      "0            1\n",
      "1            1\n",
      "2            1\n",
      "3            1\n",
      "4            1\n"
     ]
    }
   ],
   "source": [
    "# All are from USA (not useful)\n",
    "y = pd.get_dummies(df.country, prefix='country')\n",
    "print(y.head())"
   ]
  },
  {
   "cell_type": "code",
   "execution_count": 5,
   "metadata": {},
   "outputs": [
    {
     "name": "stdout",
     "output_type": "stream",
     "text": [
      "<class 'pandas.core.frame.DataFrame'>\n",
      "RangeIndex: 4600 entries, 0 to 4599\n",
      "Data columns (total 18 columns):\n",
      " #   Column         Non-Null Count  Dtype  \n",
      "---  ------         --------------  -----  \n",
      " 0   date           4600 non-null   object \n",
      " 1   price          4600 non-null   float64\n",
      " 2   bedrooms       4600 non-null   float64\n",
      " 3   bathrooms      4600 non-null   float64\n",
      " 4   sqft_living    4600 non-null   int64  \n",
      " 5   sqft_lot       4600 non-null   int64  \n",
      " 6   floors         4600 non-null   float64\n",
      " 7   waterfront     4600 non-null   int64  \n",
      " 8   view           4600 non-null   int64  \n",
      " 9   condition      4600 non-null   int64  \n",
      " 10  sqft_above     4600 non-null   int64  \n",
      " 11  sqft_basement  4600 non-null   int64  \n",
      " 12  yr_built       4600 non-null   int64  \n",
      " 13  yr_renovated   4600 non-null   int64  \n",
      " 14  street         4600 non-null   object \n",
      " 15  city           4600 non-null   object \n",
      " 16  statezip       4600 non-null   object \n",
      " 17  country        4600 non-null   object \n",
      "dtypes: float64(4), int64(9), object(5)\n",
      "memory usage: 647.0+ KB\n",
      "Size of training set 2064\n"
     ]
    }
   ],
   "source": [
    "import pandas as pd\n",
    "import numpy as np\n",
    "from sklearn.model_selection import train_test_split\n",
    "from sklearn import preprocessing\n",
    "\n",
    "# Read data \n",
    "file_data = './Data/HousePricePrediction/data.csv'\n",
    "df = pd.read_csv(file_data)\n",
    "df.info()\n",
    "\n",
    "columns = ['date', 'price', 'bedrooms', \n",
    "'bathrooms', 'sqft_living', 'sqft_lot',\n",
    "       'floors', 'waterfront', 'view',\n",
    "        'condition', 'sqft_above',\n",
    "       'sqft_basement', \n",
    "       'yr_built', 'yr_renovated', 'street', 'city',\n",
    "       'statezip', 'country']\n",
    "\n",
    "numeric_columns = ['price', 'bedrooms', \n",
    "'bathrooms', 'sqft_living', 'sqft_lot',\n",
    "       'floors', 'waterfront', 'view',\n",
    "        'condition', 'sqft_above',\n",
    "       'sqft_basement', \n",
    "       'yr_built', 'yr_renovated' ]\n",
    "numeric_columns_without_price = [ 'bedrooms', \n",
    "'bathrooms', 'sqft_living', 'sqft_lot',\n",
    "       'floors', 'waterfront', 'view',\n",
    "        'condition', 'sqft_above',\n",
    "       'sqft_basement', \n",
    "       'yr_built', 'yr_renovated' ]\n",
    "\n",
    "# we are going to select \n",
    "X = df[numeric_columns_without_price].to_numpy()\n",
    "y = df.price.to_numpy()\n",
    "\n",
    "# Split data\n",
    "test_ratio = 0.33\n",
    "inside_test = 0.33\n",
    "\n",
    "X_train_total, X_test_total, y_train_total, y_test = train_test_split(\n",
    "X, y, test_size = test_ratio, random_state=42)\n",
    "\n",
    "X_train, X_test_inside, y_train, y_test_inside = train_test_split(\n",
    "X_train_total, y_train_total, test_size = test_ratio, random_state=42)\n",
    "print('Size of training set', len(y_train))\n",
    "\n",
    "scaler = preprocessing.StandardScaler().fit(X_train)\n",
    "\n",
    "X_train_scaled = scaler.transform(X_train)\n",
    "X_test_inside_scaled = scaler.transform(X_test_inside)\n"
   ]
  },
  {
   "cell_type": "code",
   "execution_count": 6,
   "metadata": {},
   "outputs": [
    {
     "ename": "ImportError",
     "evalue": "attempted relative import with no known parent package",
     "output_type": "error",
     "traceback": [
      "\u001b[0;31m---------------------------------------------------------------------------\u001b[0m",
      "\u001b[0;31mImportError\u001b[0m                               Traceback (most recent call last)",
      "\u001b[0;32m/var/folders/6x/92l244517zjbjbndy62lk_9m0000gn/T/ipykernel_39023/4049790121.py\u001b[0m in \u001b[0;36m<module>\u001b[0;34m\u001b[0m\n\u001b[1;32m      2\u001b[0m \u001b[0;34m\u001b[0m\u001b[0m\n\u001b[1;32m      3\u001b[0m \u001b[0;32mfrom\u001b[0m \u001b[0msklearn\u001b[0m\u001b[0;34m.\u001b[0m\u001b[0mneural_network\u001b[0m \u001b[0;32mimport\u001b[0m \u001b[0mMLPRegressor\u001b[0m\u001b[0;34m\u001b[0m\u001b[0;34m\u001b[0m\u001b[0m\n\u001b[0;32m----> 4\u001b[0;31m \u001b[0;32mfrom\u001b[0m \u001b[0;34m.\u001b[0m\u001b[0;34m.\u001b[0m\u001b[0msrc\u001b[0m\u001b[0;34m.\u001b[0m\u001b[0mlearnt_initialization\u001b[0m \u001b[0;32mimport\u001b[0m \u001b[0mlearnt_initialization\u001b[0m\u001b[0;34m\u001b[0m\u001b[0;34m\u001b[0m\u001b[0m\n\u001b[0m\u001b[1;32m      5\u001b[0m \u001b[0mactivation_function\u001b[0m \u001b[0;34m=\u001b[0m \u001b[0;34m'tanh'\u001b[0m\u001b[0;34m\u001b[0m\u001b[0;34m\u001b[0m\u001b[0m\n\u001b[1;32m      6\u001b[0m \u001b[0mneurons\u001b[0m \u001b[0;34m=\u001b[0m \u001b[0;36m200\u001b[0m\u001b[0;34m\u001b[0m\u001b[0;34m\u001b[0m\u001b[0m\n",
      "\u001b[0;31mImportError\u001b[0m: attempted relative import with no known parent package"
     ]
    }
   ],
   "source": [
    "\n",
    "# Training the model \n",
    "\n",
    "from sklearn.neural_network import MLPRegressor\n",
    "from src.learnt_initialization import learnt_initialization\n",
    "activation_function = 'tanh'\n",
    "neurons = 200\n",
    "h = learnt_initialization(X, y, neurons, activation_function  )\n",
    "\n",
    "print(f'SE initialization algorithm', np.linalg.norm(h.predict(X_test_inside_scaled) - y_test_inside, 2))\n",
    "for batch in [1,16,32,64, 200]:\n",
    "    clf = MLPRegressor(solver='sgd',\n",
    "    hidden_layer_sizes=(neurons,),\n",
    "    batch_size=batch,\n",
    "    alpha=0,\n",
    "    activation= activation_function, \n",
    "    max_iter= 50 \n",
    "    ).fit(X_train, y_train)\n",
    "\n",
    "    prediction_inner_test = clf.predict(X_test_inside_scaled)\n",
    "    print('ECM', np.linalg.norm(prediction_inner_test - y_test_inside, 2))\n",
    "    print('Number of iterations', clf.n_iter_)"
   ]
  }
 ],
 "metadata": {
  "kernelspec": {
   "display_name": "tensorflow",
   "language": "python",
   "name": "python3"
  },
  "language_info": {
   "codemirror_mode": {
    "name": "ipython",
    "version": 3
   },
   "file_extension": ".py",
   "mimetype": "text/x-python",
   "name": "python",
   "nbconvert_exporter": "python",
   "pygments_lexer": "ipython3",
   "version": "3.9.7"
  },
  "orig_nbformat": 4,
  "vscode": {
   "interpreter": {
    "hash": "24dcaf82da949eb8a169ffe40fd331a23a642ab22de3e08713f616aa663d0868"
   }
  }
 },
 "nbformat": 4,
 "nbformat_minor": 2
}
