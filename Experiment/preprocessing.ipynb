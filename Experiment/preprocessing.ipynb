{
 "cells": [
  {
   "cell_type": "code",
   "execution_count": 1,
   "metadata": {},
   "outputs": [],
   "source": [
    "# Import the os module\n",
    "import os\n",
    "\n",
    "# Get the current working directory\n",
    "cwd = os.getcwd()\n",
    "os.chdir('/Users/blancacanocamarero/repositorios/optimized_neural_network/src')"
   ]
  },
  {
   "cell_type": "code",
   "execution_count": 2,
   "metadata": {},
   "outputs": [
    {
     "name": "stdout",
     "output_type": "stream",
     "text": [
      "<class 'pandas.core.frame.DataFrame'>\n",
      "RangeIndex: 4600 entries, 0 to 4599\n",
      "Data columns (total 18 columns):\n",
      " #   Column         Non-Null Count  Dtype  \n",
      "---  ------         --------------  -----  \n",
      " 0   date           4600 non-null   object \n",
      " 1   price          4600 non-null   float64\n",
      " 2   bedrooms       4600 non-null   float64\n",
      " 3   bathrooms      4600 non-null   float64\n",
      " 4   sqft_living    4600 non-null   int64  \n",
      " 5   sqft_lot       4600 non-null   int64  \n",
      " 6   floors         4600 non-null   float64\n",
      " 7   waterfront     4600 non-null   int64  \n",
      " 8   view           4600 non-null   int64  \n",
      " 9   condition      4600 non-null   int64  \n",
      " 10  sqft_above     4600 non-null   int64  \n",
      " 11  sqft_basement  4600 non-null   int64  \n",
      " 12  yr_built       4600 non-null   int64  \n",
      " 13  yr_renovated   4600 non-null   int64  \n",
      " 14  street         4600 non-null   object \n",
      " 15  city           4600 non-null   object \n",
      " 16  statezip       4600 non-null   object \n",
      " 17  country        4600 non-null   object \n",
      "dtypes: float64(4), int64(9), object(5)\n",
      "memory usage: 647.0+ KB\n"
     ]
    },
    {
     "data": {
      "text/plain": [
       "Index(['date', 'price', 'bedrooms', 'bathrooms', 'sqft_living', 'sqft_lot',\n",
       "       'floors', 'waterfront', 'view', 'condition', 'sqft_above',\n",
       "       'sqft_basement', 'yr_built', 'yr_renovated', 'street', 'city',\n",
       "       'statezip', 'country'],\n",
       "      dtype='object')"
      ]
     },
     "execution_count": 2,
     "metadata": {},
     "output_type": "execute_result"
    }
   ],
   "source": [
    "import pandas as pd\n",
    "relative_path = '../'\n",
    "file_data = relative_path + 'Experiment/Data/HousePricePrediction/data.csv'\n",
    "df = pd.read_csv(file_data)\n",
    "df.info()\n",
    "\n",
    "df.columns"
   ]
  },
  {
   "attachments": {},
   "cell_type": "markdown",
   "metadata": {},
   "source": [
    "One hot encoding\n",
    "for street is too bigger"
   ]
  },
  {
   "cell_type": "code",
   "execution_count": 3,
   "metadata": {},
   "outputs": [
    {
     "name": "stdout",
     "output_type": "stream",
     "text": [
      "   street_1 View Ln NE  street_10 W Etruria St  street_100 20th Ave E  \\\n",
      "0                    0                       0                      0   \n",
      "1                    0                       0                      0   \n",
      "2                    0                       0                      0   \n",
      "3                    0                       0                      0   \n",
      "4                    0                       0                      0   \n",
      "\n",
      "   street_100 24th Ave E  street_100 Mt Si Pl NW  \\\n",
      "0                      0                       0   \n",
      "1                      0                       0   \n",
      "2                      0                       0   \n",
      "3                      0                       0   \n",
      "4                      0                       0   \n",
      "\n",
      "   street_1000 Mountain View Blvd SE  street_10000-10026 S 100th St  \\\n",
      "0                                  0                              0   \n",
      "1                                  0                              0   \n",
      "2                                  0                              0   \n",
      "3                                  0                              0   \n",
      "4                                  0                              0   \n",
      "\n",
      "   street_10005 16th Ave S  street_10009 SE 247th Pl  street_1001 SW 102nd St  \\\n",
      "0                        0                         0                        0   \n",
      "1                        0                         0                        0   \n",
      "2                        0                         0                        0   \n",
      "3                        0                         0                        0   \n",
      "4                        0                         0                        0   \n",
      "\n",
      "   ...  street_Indian Trail  street_Nuthatch Trail  street_SE 170th Pl  \\\n",
      "0  ...                    0                      0                   0   \n",
      "1  ...                    0                      0                   0   \n",
      "2  ...                    0                      0                   0   \n",
      "3  ...                    0                      0                   0   \n",
      "4  ...                    0                      0                   0   \n",
      "\n",
      "   street_SE 21st Ct  street_Schmitz Park to Alki Trail  \\\n",
      "0                  0                                  0   \n",
      "1                  0                                  0   \n",
      "2                  0                                  0   \n",
      "3                  0                                  0   \n",
      "4                  0                                  0   \n",
      "\n",
      "   street_Shangri-La Way NW  street_Sunrise Loop Trail  \\\n",
      "0                         0                          0   \n",
      "1                         0                          0   \n",
      "2                         0                          0   \n",
      "3                         0                          0   \n",
      "4                         0                          0   \n",
      "\n",
      "   street_Tolt Pipeline Trail  street_Trossachs Blvd SE  \\\n",
      "0                           0                         0   \n",
      "1                           0                         0   \n",
      "2                           0                         0   \n",
      "3                           0                         0   \n",
      "4                           0                         0   \n",
      "\n",
      "   street_Valley View Trail  \n",
      "0                         0  \n",
      "1                         0  \n",
      "2                         0  \n",
      "3                         0  \n",
      "4                         0  \n",
      "\n",
      "[5 rows x 4525 columns]\n"
     ]
    }
   ],
   "source": [
    "y = pd.get_dummies(df.street, prefix='street')\n",
    "print(y.head())"
   ]
  },
  {
   "cell_type": "code",
   "execution_count": 4,
   "metadata": {},
   "outputs": [
    {
     "name": "stdout",
     "output_type": "stream",
     "text": [
      "   city_Algona  city_Auburn  city_Beaux Arts Village  city_Bellevue  \\\n",
      "0            0            0                        0              0   \n",
      "1            0            0                        0              0   \n",
      "2            0            0                        0              0   \n",
      "3            0            0                        0              1   \n",
      "4            0            0                        0              0   \n",
      "\n",
      "   city_Black Diamond  city_Bothell  city_Burien  city_Carnation  \\\n",
      "0                   0             0            0               0   \n",
      "1                   0             0            0               0   \n",
      "2                   0             0            0               0   \n",
      "3                   0             0            0               0   \n",
      "4                   0             0            0               0   \n",
      "\n",
      "   city_Clyde Hill  city_Covington  ...  city_SeaTac  city_Seattle  \\\n",
      "0                0               0  ...            0             0   \n",
      "1                0               0  ...            0             1   \n",
      "2                0               0  ...            0             0   \n",
      "3                0               0  ...            0             0   \n",
      "4                0               0  ...            0             0   \n",
      "\n",
      "   city_Shoreline  city_Skykomish  city_Snoqualmie  city_Snoqualmie Pass  \\\n",
      "0               1               0                0                     0   \n",
      "1               0               0                0                     0   \n",
      "2               0               0                0                     0   \n",
      "3               0               0                0                     0   \n",
      "4               0               0                0                     0   \n",
      "\n",
      "   city_Tukwila  city_Vashon  city_Woodinville  city_Yarrow Point  \n",
      "0             0            0                 0                  0  \n",
      "1             0            0                 0                  0  \n",
      "2             0            0                 0                  0  \n",
      "3             0            0                 0                  0  \n",
      "4             0            0                 0                  0  \n",
      "\n",
      "[5 rows x 44 columns]\n"
     ]
    }
   ],
   "source": [
    "y = pd.get_dummies(df.city, prefix='city')\n",
    "print(y.head())"
   ]
  },
  {
   "cell_type": "code",
   "execution_count": 5,
   "metadata": {},
   "outputs": [
    {
     "name": "stdout",
     "output_type": "stream",
     "text": [
      "   country_USA\n",
      "0            1\n",
      "1            1\n",
      "2            1\n",
      "3            1\n",
      "4            1\n"
     ]
    }
   ],
   "source": [
    "# All are from USA (not useful)\n",
    "y = pd.get_dummies(df.country, prefix='country')\n",
    "print(y.head())"
   ]
  },
  {
   "cell_type": "code",
   "execution_count": 6,
   "metadata": {},
   "outputs": [
    {
     "name": "stdout",
     "output_type": "stream",
     "text": [
      "<class 'pandas.core.frame.DataFrame'>\n",
      "RangeIndex: 4600 entries, 0 to 4599\n",
      "Data columns (total 18 columns):\n",
      " #   Column         Non-Null Count  Dtype  \n",
      "---  ------         --------------  -----  \n",
      " 0   date           4600 non-null   object \n",
      " 1   price          4600 non-null   float64\n",
      " 2   bedrooms       4600 non-null   float64\n",
      " 3   bathrooms      4600 non-null   float64\n",
      " 4   sqft_living    4600 non-null   int64  \n",
      " 5   sqft_lot       4600 non-null   int64  \n",
      " 6   floors         4600 non-null   float64\n",
      " 7   waterfront     4600 non-null   int64  \n",
      " 8   view           4600 non-null   int64  \n",
      " 9   condition      4600 non-null   int64  \n",
      " 10  sqft_above     4600 non-null   int64  \n",
      " 11  sqft_basement  4600 non-null   int64  \n",
      " 12  yr_built       4600 non-null   int64  \n",
      " 13  yr_renovated   4600 non-null   int64  \n",
      " 14  street         4600 non-null   object \n",
      " 15  city           4600 non-null   object \n",
      " 16  statezip       4600 non-null   object \n",
      " 17  country        4600 non-null   object \n",
      "dtypes: float64(4), int64(9), object(5)\n",
      "memory usage: 647.0+ KB\n",
      "Size of training set 2064\n"
     ]
    }
   ],
   "source": [
    "import pandas as pd\n",
    "import numpy as np\n",
    "from sklearn.model_selection import train_test_split\n",
    "from sklearn import preprocessing\n",
    "\n",
    "# Read data \n",
    "file_data = relative_path+'Experiment/Data/HousePricePrediction/data.csv'\n",
    "df = pd.read_csv(file_data)\n",
    "df.info()\n",
    "\n",
    "columns = ['date', 'price', 'bedrooms', \n",
    "'bathrooms', 'sqft_living', 'sqft_lot',\n",
    "       'floors', 'waterfront', 'view',\n",
    "        'condition', 'sqft_above',\n",
    "       'sqft_basement', \n",
    "       'yr_built', 'yr_renovated', 'street', 'city',\n",
    "       'statezip', 'country']\n",
    "\n",
    "numeric_columns = ['price', 'bedrooms', \n",
    "'bathrooms', 'sqft_living', 'sqft_lot',\n",
    "       'floors', 'waterfront', 'view',\n",
    "        'condition', 'sqft_above',\n",
    "       'sqft_basement', \n",
    "       'yr_built', 'yr_renovated' ]\n",
    "numeric_columns_without_price = [ 'bedrooms', \n",
    "'bathrooms', 'sqft_living', 'sqft_lot',\n",
    "       'floors', 'waterfront', 'view',\n",
    "        'condition', 'sqft_above',\n",
    "       'sqft_basement', \n",
    "       'yr_built', 'yr_renovated' ]\n",
    "\n",
    "# we are going to select \n",
    "X = df[numeric_columns_without_price].to_numpy()\n",
    "y = df.price.to_numpy()\n",
    "\n",
    "# Split data\n",
    "test_ratio = 0.33\n",
    "inside_test = 0.33\n",
    "\n",
    "X_train_total, X_test_total, y_train_total, y_test = train_test_split(\n",
    "X, y, test_size = test_ratio, random_state=42)\n",
    "\n",
    "X_train, X_test_inside, y_train, y_test_inside = train_test_split(\n",
    "X_train_total, y_train_total, test_size = test_ratio, random_state=42)\n",
    "print('Size of training set', len(y_train))\n",
    "\n",
    "scaler = preprocessing.StandardScaler().fit(X_train)\n",
    "\n",
    "X_train_scaled = scaler.transform(X_train)\n",
    "X_test_inside_scaled = scaler.transform(X_test_inside)\n"
   ]
  },
  {
   "cell_type": "code",
   "execution_count": 7,
   "metadata": {},
   "outputs": [
    {
     "name": "stdout",
     "output_type": "stream",
     "text": [
      "SE initialization algorithm 595412394.782\n",
      "Batch  1  Number of iterations 1 ECM: 22416102.201\n"
     ]
    },
    {
     "name": "stderr",
     "output_type": "stream",
     "text": [
      "/Users/blancacanocamarero/miniforge3/envs/tensorflow/lib/python3.9/site-packages/sklearn/neural_network/_multilayer_perceptron.py:692: ConvergenceWarning: Stochastic Optimizer: Maximum iterations (1) reached and the optimization hasn't converged yet.\n",
      "  warnings.warn(\n",
      "/Users/blancacanocamarero/miniforge3/envs/tensorflow/lib/python3.9/site-packages/sklearn/neural_network/_multilayer_perceptron.py:692: ConvergenceWarning: Stochastic Optimizer: Maximum iterations (11) reached and the optimization hasn't converged yet.\n",
      "  warnings.warn(\n"
     ]
    },
    {
     "name": "stdout",
     "output_type": "stream",
     "text": [
      "Batch  1  Number of iterations 11 ECM: 25717373.705\n",
      "Batch  1  Number of iterations 16 ECM: 32803873.635\n",
      "Batch  1  Number of iterations 20 ECM: 25356630.541\n",
      "Batch  1  Number of iterations 32 ECM: 43032632.436\n",
      "Batch  16  Number of iterations 1 ECM: 20926582.635\n",
      "Batch  16  Number of iterations 11 ECM: 21767225.838\n"
     ]
    },
    {
     "name": "stderr",
     "output_type": "stream",
     "text": [
      "/Users/blancacanocamarero/miniforge3/envs/tensorflow/lib/python3.9/site-packages/sklearn/neural_network/_multilayer_perceptron.py:692: ConvergenceWarning: Stochastic Optimizer: Maximum iterations (1) reached and the optimization hasn't converged yet.\n",
      "  warnings.warn(\n",
      "/Users/blancacanocamarero/miniforge3/envs/tensorflow/lib/python3.9/site-packages/sklearn/neural_network/_multilayer_perceptron.py:692: ConvergenceWarning: Stochastic Optimizer: Maximum iterations (11) reached and the optimization hasn't converged yet.\n",
      "  warnings.warn(\n",
      "/Users/blancacanocamarero/miniforge3/envs/tensorflow/lib/python3.9/site-packages/sklearn/neural_network/_multilayer_perceptron.py:692: ConvergenceWarning: Stochastic Optimizer: Maximum iterations (21) reached and the optimization hasn't converged yet.\n",
      "  warnings.warn(\n"
     ]
    },
    {
     "name": "stdout",
     "output_type": "stream",
     "text": [
      "Batch  16  Number of iterations 21 ECM: 21298066.401\n",
      "Batch  16  Number of iterations 16 ECM: 20854195.548\n",
      "Batch  16  Number of iterations 33 ECM: 20683282.171\n",
      "Batch  32  Number of iterations 1 ECM: 21149014.471\n",
      "Batch  32  Number of iterations 11 ECM: 20484562.710\n"
     ]
    },
    {
     "name": "stderr",
     "output_type": "stream",
     "text": [
      "/Users/blancacanocamarero/miniforge3/envs/tensorflow/lib/python3.9/site-packages/sklearn/neural_network/_multilayer_perceptron.py:692: ConvergenceWarning: Stochastic Optimizer: Maximum iterations (1) reached and the optimization hasn't converged yet.\n",
      "  warnings.warn(\n",
      "/Users/blancacanocamarero/miniforge3/envs/tensorflow/lib/python3.9/site-packages/sklearn/neural_network/_multilayer_perceptron.py:692: ConvergenceWarning: Stochastic Optimizer: Maximum iterations (11) reached and the optimization hasn't converged yet.\n",
      "  warnings.warn(\n"
     ]
    },
    {
     "name": "stdout",
     "output_type": "stream",
     "text": [
      "Batch  32  Number of iterations 16 ECM: 21400988.344\n",
      "Batch  32  Number of iterations 30 ECM: 21297035.194\n",
      "Batch  32  Number of iterations 17 ECM: 21392776.202\n",
      "Batch  64  Number of iterations 1 ECM: 20935491.192\n"
     ]
    },
    {
     "name": "stderr",
     "output_type": "stream",
     "text": [
      "/Users/blancacanocamarero/miniforge3/envs/tensorflow/lib/python3.9/site-packages/sklearn/neural_network/_multilayer_perceptron.py:692: ConvergenceWarning: Stochastic Optimizer: Maximum iterations (1) reached and the optimization hasn't converged yet.\n",
      "  warnings.warn(\n",
      "/Users/blancacanocamarero/miniforge3/envs/tensorflow/lib/python3.9/site-packages/sklearn/neural_network/_multilayer_perceptron.py:692: ConvergenceWarning: Stochastic Optimizer: Maximum iterations (11) reached and the optimization hasn't converged yet.\n",
      "  warnings.warn(\n"
     ]
    },
    {
     "name": "stdout",
     "output_type": "stream",
     "text": [
      "Batch  64  Number of iterations 11 ECM: 21516852.867\n",
      "Batch  64  Number of iterations 15 ECM: 21396467.562\n",
      "Batch  64  Number of iterations 24 ECM: 20758747.389\n",
      "Batch  64  Number of iterations 13 ECM: 21503553.827\n",
      "Batch  200  Number of iterations 1 ECM: 21675500.419\n"
     ]
    },
    {
     "name": "stderr",
     "output_type": "stream",
     "text": [
      "/Users/blancacanocamarero/miniforge3/envs/tensorflow/lib/python3.9/site-packages/sklearn/neural_network/_multilayer_perceptron.py:692: ConvergenceWarning: Stochastic Optimizer: Maximum iterations (1) reached and the optimization hasn't converged yet.\n",
      "  warnings.warn(\n",
      "/Users/blancacanocamarero/miniforge3/envs/tensorflow/lib/python3.9/site-packages/sklearn/neural_network/_multilayer_perceptron.py:692: ConvergenceWarning: Stochastic Optimizer: Maximum iterations (11) reached and the optimization hasn't converged yet.\n",
      "  warnings.warn(\n"
     ]
    },
    {
     "name": "stdout",
     "output_type": "stream",
     "text": [
      "Batch  200  Number of iterations 11 ECM: 21029723.516\n",
      "Batch  200  Number of iterations 18 ECM: 21145769.539\n",
      "Batch  200  Number of iterations 14 ECM: 21255187.807\n",
      "Batch  200  Number of iterations 33 ECM: 21060924.308\n",
      "SE initialization algorithm 426408073.458\n"
     ]
    },
    {
     "name": "stderr",
     "output_type": "stream",
     "text": [
      "/Users/blancacanocamarero/miniforge3/envs/tensorflow/lib/python3.9/site-packages/sklearn/neural_network/_multilayer_perceptron.py:692: ConvergenceWarning: Stochastic Optimizer: Maximum iterations (1) reached and the optimization hasn't converged yet.\n",
      "  warnings.warn(\n"
     ]
    },
    {
     "name": "stdout",
     "output_type": "stream",
     "text": [
      "Batch  1  Number of iterations 1 ECM: 25748040.759\n"
     ]
    },
    {
     "name": "stderr",
     "output_type": "stream",
     "text": [
      "/Users/blancacanocamarero/miniforge3/envs/tensorflow/lib/python3.9/site-packages/sklearn/neural_network/_multilayer_perceptron.py:692: ConvergenceWarning: Stochastic Optimizer: Maximum iterations (11) reached and the optimization hasn't converged yet.\n",
      "  warnings.warn(\n"
     ]
    },
    {
     "name": "stdout",
     "output_type": "stream",
     "text": [
      "Batch  1  Number of iterations 11 ECM: 58143887.599\n"
     ]
    },
    {
     "name": "stderr",
     "output_type": "stream",
     "text": [
      "/Users/blancacanocamarero/miniforge3/envs/tensorflow/lib/python3.9/site-packages/sklearn/neural_network/_multilayer_perceptron.py:692: ConvergenceWarning: Stochastic Optimizer: Maximum iterations (21) reached and the optimization hasn't converged yet.\n",
      "  warnings.warn(\n"
     ]
    },
    {
     "name": "stdout",
     "output_type": "stream",
     "text": [
      "Batch  1  Number of iterations 21 ECM: 44916331.225\n",
      "Batch  1  Number of iterations 25 ECM: 29895538.289\n",
      "Batch  1  Number of iterations 23 ECM: 24400695.073\n",
      "Batch  16  Number of iterations 1 ECM: 31011282.793\n"
     ]
    },
    {
     "name": "stderr",
     "output_type": "stream",
     "text": [
      "/Users/blancacanocamarero/miniforge3/envs/tensorflow/lib/python3.9/site-packages/sklearn/neural_network/_multilayer_perceptron.py:692: ConvergenceWarning: Stochastic Optimizer: Maximum iterations (1) reached and the optimization hasn't converged yet.\n",
      "  warnings.warn(\n",
      "/Users/blancacanocamarero/miniforge3/envs/tensorflow/lib/python3.9/site-packages/sklearn/neural_network/_multilayer_perceptron.py:692: ConvergenceWarning: Stochastic Optimizer: Maximum iterations (11) reached and the optimization hasn't converged yet.\n",
      "  warnings.warn(\n"
     ]
    },
    {
     "name": "stdout",
     "output_type": "stream",
     "text": [
      "Batch  16  Number of iterations 11 ECM: 24057126.770\n",
      "Batch  16  Number of iterations 19 ECM: 23279047.984\n",
      "Batch  16  Number of iterations 15 ECM: 22777718.158\n",
      "Batch  16  Number of iterations 25 ECM: 21477129.964\n",
      "Batch  32  Number of iterations 1 ECM: 30971391.704\n"
     ]
    },
    {
     "name": "stderr",
     "output_type": "stream",
     "text": [
      "/Users/blancacanocamarero/miniforge3/envs/tensorflow/lib/python3.9/site-packages/sklearn/neural_network/_multilayer_perceptron.py:692: ConvergenceWarning: Stochastic Optimizer: Maximum iterations (1) reached and the optimization hasn't converged yet.\n",
      "  warnings.warn(\n",
      "/Users/blancacanocamarero/miniforge3/envs/tensorflow/lib/python3.9/site-packages/sklearn/neural_network/_multilayer_perceptron.py:692: ConvergenceWarning: Stochastic Optimizer: Maximum iterations (11) reached and the optimization hasn't converged yet.\n",
      "  warnings.warn(\n"
     ]
    },
    {
     "name": "stdout",
     "output_type": "stream",
     "text": [
      "Batch  32  Number of iterations 11 ECM: 28929687.357\n"
     ]
    },
    {
     "name": "stderr",
     "output_type": "stream",
     "text": [
      "/Users/blancacanocamarero/miniforge3/envs/tensorflow/lib/python3.9/site-packages/sklearn/neural_network/_multilayer_perceptron.py:692: ConvergenceWarning: Stochastic Optimizer: Maximum iterations (21) reached and the optimization hasn't converged yet.\n",
      "  warnings.warn(\n"
     ]
    },
    {
     "name": "stdout",
     "output_type": "stream",
     "text": [
      "Batch  32  Number of iterations 21 ECM: 26815078.332\n",
      "Batch  32  Number of iterations 25 ECM: 25386863.898\n",
      "Batch  32  Number of iterations 13 ECM: 26626289.006\n",
      "Batch  64  Number of iterations 1 ECM: 27460336.091\n"
     ]
    },
    {
     "name": "stderr",
     "output_type": "stream",
     "text": [
      "/Users/blancacanocamarero/miniforge3/envs/tensorflow/lib/python3.9/site-packages/sklearn/neural_network/_multilayer_perceptron.py:692: ConvergenceWarning: Stochastic Optimizer: Maximum iterations (1) reached and the optimization hasn't converged yet.\n",
      "  warnings.warn(\n",
      "/Users/blancacanocamarero/miniforge3/envs/tensorflow/lib/python3.9/site-packages/sklearn/neural_network/_multilayer_perceptron.py:692: ConvergenceWarning: Stochastic Optimizer: Maximum iterations (11) reached and the optimization hasn't converged yet.\n",
      "  warnings.warn(\n"
     ]
    },
    {
     "name": "stdout",
     "output_type": "stream",
     "text": [
      "Batch  64  Number of iterations 11 ECM: 26864260.417\n",
      "Batch  64  Number of iterations 14 ECM: 32665755.967\n",
      "Batch  64  Number of iterations 22 ECM: 35413386.249\n",
      "Batch  64  Number of iterations 17 ECM: 28260685.977\n",
      "Batch  200  Number of iterations 1 ECM: 24579067.654\n"
     ]
    },
    {
     "name": "stderr",
     "output_type": "stream",
     "text": [
      "/Users/blancacanocamarero/miniforge3/envs/tensorflow/lib/python3.9/site-packages/sklearn/neural_network/_multilayer_perceptron.py:692: ConvergenceWarning: Stochastic Optimizer: Maximum iterations (1) reached and the optimization hasn't converged yet.\n",
      "  warnings.warn(\n",
      "/Users/blancacanocamarero/miniforge3/envs/tensorflow/lib/python3.9/site-packages/sklearn/neural_network/_multilayer_perceptron.py:692: ConvergenceWarning: Stochastic Optimizer: Maximum iterations (11) reached and the optimization hasn't converged yet.\n",
      "  warnings.warn(\n"
     ]
    },
    {
     "name": "stdout",
     "output_type": "stream",
     "text": [
      "Batch  200  Number of iterations 11 ECM: 32109337.757\n",
      "Batch  200  Number of iterations 17 ECM: 34737258.458\n",
      "Batch  200  Number of iterations 23 ECM: 30785959.587\n",
      "Batch  200  Number of iterations 21 ECM: 29411422.130\n",
      "SE initialization algorithm 501142837.137\n"
     ]
    },
    {
     "name": "stderr",
     "output_type": "stream",
     "text": [
      "/Users/blancacanocamarero/miniforge3/envs/tensorflow/lib/python3.9/site-packages/sklearn/neural_network/_multilayer_perceptron.py:291: RuntimeWarning: invalid value encountered in double_scalars\n",
      "  loss += (0.5 * self.alpha) * values / n_samples\n",
      "/Users/blancacanocamarero/miniforge3/envs/tensorflow/lib/python3.9/site-packages/sklearn/neural_network/_base.py:174: RuntimeWarning: overflow encountered in square\n",
      "  return ((y_true - y_pred) ** 2).mean() / 2\n",
      "/Users/blancacanocamarero/miniforge3/envs/tensorflow/lib/python3.9/site-packages/sklearn/utils/extmath.py:153: RuntimeWarning: overflow encountered in matmul\n",
      "  ret = a @ b\n",
      "/Users/blancacanocamarero/miniforge3/envs/tensorflow/lib/python3.9/site-packages/sklearn/neural_network/_base.py:129: RuntimeWarning: invalid value encountered in multiply\n",
      "  delta *= 1 - Z ** 2\n",
      "/Users/blancacanocamarero/miniforge3/envs/tensorflow/lib/python3.9/site-packages/sklearn/neural_network/_multilayer_perceptron.py:692: ConvergenceWarning: Stochastic Optimizer: Maximum iterations (1) reached and the optimization hasn't converged yet.\n",
      "  warnings.warn(\n",
      "/Users/blancacanocamarero/miniforge3/envs/tensorflow/lib/python3.9/site-packages/sklearn/neural_network/_multilayer_perceptron.py:291: RuntimeWarning: invalid value encountered in double_scalars\n",
      "  loss += (0.5 * self.alpha) * values / n_samples\n",
      "/Users/blancacanocamarero/miniforge3/envs/tensorflow/lib/python3.9/site-packages/sklearn/neural_network/_base.py:174: RuntimeWarning: overflow encountered in square\n",
      "  return ((y_true - y_pred) ** 2).mean() / 2\n",
      "/Users/blancacanocamarero/miniforge3/envs/tensorflow/lib/python3.9/site-packages/sklearn/utils/extmath.py:153: RuntimeWarning: overflow encountered in matmul\n",
      "  ret = a @ b\n",
      "/Users/blancacanocamarero/miniforge3/envs/tensorflow/lib/python3.9/site-packages/sklearn/neural_network/_base.py:129: RuntimeWarning: invalid value encountered in multiply\n",
      "  delta *= 1 - Z ** 2\n"
     ]
    },
    {
     "name": "stdout",
     "output_type": "stream",
     "text": [
      "Batch  1  Number of iterations 1 ECM: nan\n"
     ]
    },
    {
     "name": "stderr",
     "output_type": "stream",
     "text": [
      "/Users/blancacanocamarero/miniforge3/envs/tensorflow/lib/python3.9/site-packages/sklearn/neural_network/_multilayer_perceptron.py:692: ConvergenceWarning: Stochastic Optimizer: Maximum iterations (11) reached and the optimization hasn't converged yet.\n",
      "  warnings.warn(\n",
      "/Users/blancacanocamarero/miniforge3/envs/tensorflow/lib/python3.9/site-packages/sklearn/neural_network/_multilayer_perceptron.py:291: RuntimeWarning: invalid value encountered in double_scalars\n",
      "  loss += (0.5 * self.alpha) * values / n_samples\n",
      "/Users/blancacanocamarero/miniforge3/envs/tensorflow/lib/python3.9/site-packages/sklearn/neural_network/_base.py:174: RuntimeWarning: overflow encountered in square\n",
      "  return ((y_true - y_pred) ** 2).mean() / 2\n",
      "/Users/blancacanocamarero/miniforge3/envs/tensorflow/lib/python3.9/site-packages/sklearn/utils/extmath.py:153: RuntimeWarning: overflow encountered in matmul\n",
      "  ret = a @ b\n"
     ]
    },
    {
     "name": "stdout",
     "output_type": "stream",
     "text": [
      "Batch  1  Number of iterations 11 ECM: nan\n"
     ]
    },
    {
     "name": "stderr",
     "output_type": "stream",
     "text": [
      "/Users/blancacanocamarero/miniforge3/envs/tensorflow/lib/python3.9/site-packages/sklearn/neural_network/_base.py:129: RuntimeWarning: invalid value encountered in multiply\n",
      "  delta *= 1 - Z ** 2\n",
      "/Users/blancacanocamarero/miniforge3/envs/tensorflow/lib/python3.9/site-packages/sklearn/neural_network/_multilayer_perceptron.py:692: ConvergenceWarning: Stochastic Optimizer: Maximum iterations (21) reached and the optimization hasn't converged yet.\n",
      "  warnings.warn(\n",
      "/Users/blancacanocamarero/miniforge3/envs/tensorflow/lib/python3.9/site-packages/sklearn/neural_network/_multilayer_perceptron.py:291: RuntimeWarning: invalid value encountered in double_scalars\n",
      "  loss += (0.5 * self.alpha) * values / n_samples\n",
      "/Users/blancacanocamarero/miniforge3/envs/tensorflow/lib/python3.9/site-packages/sklearn/neural_network/_base.py:174: RuntimeWarning: overflow encountered in square\n",
      "  return ((y_true - y_pred) ** 2).mean() / 2\n",
      "/Users/blancacanocamarero/miniforge3/envs/tensorflow/lib/python3.9/site-packages/sklearn/utils/extmath.py:153: RuntimeWarning: overflow encountered in matmul\n",
      "  ret = a @ b\n",
      "/Users/blancacanocamarero/miniforge3/envs/tensorflow/lib/python3.9/site-packages/sklearn/neural_network/_base.py:129: RuntimeWarning: invalid value encountered in multiply\n",
      "  delta *= 1 - Z ** 2\n"
     ]
    },
    {
     "name": "stdout",
     "output_type": "stream",
     "text": [
      "Batch  1  Number of iterations 21 ECM: nan\n"
     ]
    },
    {
     "name": "stderr",
     "output_type": "stream",
     "text": [
      "/Users/blancacanocamarero/miniforge3/envs/tensorflow/lib/python3.9/site-packages/sklearn/neural_network/_multilayer_perceptron.py:692: ConvergenceWarning: Stochastic Optimizer: Maximum iterations (31) reached and the optimization hasn't converged yet.\n",
      "  warnings.warn(\n",
      "/Users/blancacanocamarero/miniforge3/envs/tensorflow/lib/python3.9/site-packages/sklearn/neural_network/_multilayer_perceptron.py:291: RuntimeWarning: invalid value encountered in double_scalars\n",
      "  loss += (0.5 * self.alpha) * values / n_samples\n",
      "/Users/blancacanocamarero/miniforge3/envs/tensorflow/lib/python3.9/site-packages/sklearn/neural_network/_base.py:174: RuntimeWarning: overflow encountered in square\n",
      "  return ((y_true - y_pred) ** 2).mean() / 2\n",
      "/Users/blancacanocamarero/miniforge3/envs/tensorflow/lib/python3.9/site-packages/sklearn/utils/extmath.py:153: RuntimeWarning: overflow encountered in matmul\n",
      "  ret = a @ b\n",
      "/Users/blancacanocamarero/miniforge3/envs/tensorflow/lib/python3.9/site-packages/sklearn/neural_network/_base.py:129: RuntimeWarning: invalid value encountered in multiply\n",
      "  delta *= 1 - Z ** 2\n"
     ]
    },
    {
     "name": "stdout",
     "output_type": "stream",
     "text": [
      "Batch  1  Number of iterations 31 ECM: nan\n"
     ]
    },
    {
     "name": "stderr",
     "output_type": "stream",
     "text": [
      "/Users/blancacanocamarero/miniforge3/envs/tensorflow/lib/python3.9/site-packages/sklearn/neural_network/_multilayer_perceptron.py:692: ConvergenceWarning: Stochastic Optimizer: Maximum iterations (41) reached and the optimization hasn't converged yet.\n",
      "  warnings.warn(\n",
      "/Users/blancacanocamarero/miniforge3/envs/tensorflow/lib/python3.9/site-packages/sklearn/neural_network/_multilayer_perceptron.py:692: ConvergenceWarning: Stochastic Optimizer: Maximum iterations (1) reached and the optimization hasn't converged yet.\n",
      "  warnings.warn(\n"
     ]
    },
    {
     "name": "stdout",
     "output_type": "stream",
     "text": [
      "Batch  1  Number of iterations 41 ECM: nan\n",
      "Batch  16  Number of iterations 1 ECM: 73503889781452975206218859767973465009511683802005504.000\n"
     ]
    },
    {
     "name": "stderr",
     "output_type": "stream",
     "text": [
      "/Users/blancacanocamarero/miniforge3/envs/tensorflow/lib/python3.9/site-packages/numpy/core/_methods.py:160: RuntimeWarning: overflow encountered in reduce\n",
      "  ret = umr_sum(arr, axis, dtype, out, keepdims)\n",
      "/Users/blancacanocamarero/miniforge3/envs/tensorflow/lib/python3.9/site-packages/sklearn/neural_network/_base.py:174: RuntimeWarning: overflow encountered in square\n",
      "  return ((y_true - y_pred) ** 2).mean() / 2\n",
      "/Users/blancacanocamarero/miniforge3/envs/tensorflow/lib/python3.9/site-packages/sklearn/neural_network/_multilayer_perceptron.py:291: RuntimeWarning: invalid value encountered in double_scalars\n",
      "  loss += (0.5 * self.alpha) * values / n_samples\n",
      "/Users/blancacanocamarero/miniforge3/envs/tensorflow/lib/python3.9/site-packages/sklearn/utils/extmath.py:153: RuntimeWarning: overflow encountered in matmul\n",
      "  ret = a @ b\n",
      "/Users/blancacanocamarero/miniforge3/envs/tensorflow/lib/python3.9/site-packages/sklearn/neural_network/_base.py:129: RuntimeWarning: invalid value encountered in multiply\n",
      "  delta *= 1 - Z ** 2\n",
      "/Users/blancacanocamarero/miniforge3/envs/tensorflow/lib/python3.9/site-packages/sklearn/neural_network/_multilayer_perceptron.py:692: ConvergenceWarning: Stochastic Optimizer: Maximum iterations (11) reached and the optimization hasn't converged yet.\n",
      "  warnings.warn(\n"
     ]
    },
    {
     "name": "stdout",
     "output_type": "stream",
     "text": [
      "Batch  16  Number of iterations 11 ECM: nan\n"
     ]
    },
    {
     "name": "stderr",
     "output_type": "stream",
     "text": [
      "/Users/blancacanocamarero/miniforge3/envs/tensorflow/lib/python3.9/site-packages/numpy/core/_methods.py:160: RuntimeWarning: overflow encountered in reduce\n",
      "  ret = umr_sum(arr, axis, dtype, out, keepdims)\n",
      "/Users/blancacanocamarero/miniforge3/envs/tensorflow/lib/python3.9/site-packages/sklearn/neural_network/_base.py:174: RuntimeWarning: overflow encountered in square\n",
      "  return ((y_true - y_pred) ** 2).mean() / 2\n",
      "/Users/blancacanocamarero/miniforge3/envs/tensorflow/lib/python3.9/site-packages/sklearn/neural_network/_multilayer_perceptron.py:291: RuntimeWarning: invalid value encountered in double_scalars\n",
      "  loss += (0.5 * self.alpha) * values / n_samples\n",
      "/Users/blancacanocamarero/miniforge3/envs/tensorflow/lib/python3.9/site-packages/sklearn/utils/extmath.py:153: RuntimeWarning: overflow encountered in matmul\n",
      "  ret = a @ b\n",
      "/Users/blancacanocamarero/miniforge3/envs/tensorflow/lib/python3.9/site-packages/sklearn/neural_network/_base.py:129: RuntimeWarning: invalid value encountered in multiply\n",
      "  delta *= 1 - Z ** 2\n",
      "/Users/blancacanocamarero/miniforge3/envs/tensorflow/lib/python3.9/site-packages/sklearn/neural_network/_multilayer_perceptron.py:692: ConvergenceWarning: Stochastic Optimizer: Maximum iterations (21) reached and the optimization hasn't converged yet.\n",
      "  warnings.warn(\n"
     ]
    },
    {
     "name": "stdout",
     "output_type": "stream",
     "text": [
      "Batch  16  Number of iterations 21 ECM: nan\n"
     ]
    },
    {
     "name": "stderr",
     "output_type": "stream",
     "text": [
      "/Users/blancacanocamarero/miniforge3/envs/tensorflow/lib/python3.9/site-packages/numpy/core/_methods.py:160: RuntimeWarning: overflow encountered in reduce\n",
      "  ret = umr_sum(arr, axis, dtype, out, keepdims)\n",
      "/Users/blancacanocamarero/miniforge3/envs/tensorflow/lib/python3.9/site-packages/sklearn/neural_network/_base.py:174: RuntimeWarning: overflow encountered in square\n",
      "  return ((y_true - y_pred) ** 2).mean() / 2\n",
      "/Users/blancacanocamarero/miniforge3/envs/tensorflow/lib/python3.9/site-packages/sklearn/neural_network/_multilayer_perceptron.py:291: RuntimeWarning: invalid value encountered in double_scalars\n",
      "  loss += (0.5 * self.alpha) * values / n_samples\n",
      "/Users/blancacanocamarero/miniforge3/envs/tensorflow/lib/python3.9/site-packages/sklearn/utils/extmath.py:153: RuntimeWarning: overflow encountered in matmul\n",
      "  ret = a @ b\n",
      "/Users/blancacanocamarero/miniforge3/envs/tensorflow/lib/python3.9/site-packages/sklearn/neural_network/_base.py:129: RuntimeWarning: invalid value encountered in multiply\n",
      "  delta *= 1 - Z ** 2\n",
      "/Users/blancacanocamarero/miniforge3/envs/tensorflow/lib/python3.9/site-packages/sklearn/neural_network/_multilayer_perceptron.py:692: ConvergenceWarning: Stochastic Optimizer: Maximum iterations (31) reached and the optimization hasn't converged yet.\n",
      "  warnings.warn(\n"
     ]
    },
    {
     "name": "stdout",
     "output_type": "stream",
     "text": [
      "Batch  16  Number of iterations 31 ECM: nan\n"
     ]
    },
    {
     "name": "stderr",
     "output_type": "stream",
     "text": [
      "/Users/blancacanocamarero/miniforge3/envs/tensorflow/lib/python3.9/site-packages/numpy/core/_methods.py:160: RuntimeWarning: overflow encountered in reduce\n",
      "  ret = umr_sum(arr, axis, dtype, out, keepdims)\n",
      "/Users/blancacanocamarero/miniforge3/envs/tensorflow/lib/python3.9/site-packages/sklearn/neural_network/_base.py:174: RuntimeWarning: overflow encountered in square\n",
      "  return ((y_true - y_pred) ** 2).mean() / 2\n",
      "/Users/blancacanocamarero/miniforge3/envs/tensorflow/lib/python3.9/site-packages/sklearn/neural_network/_multilayer_perceptron.py:291: RuntimeWarning: invalid value encountered in double_scalars\n",
      "  loss += (0.5 * self.alpha) * values / n_samples\n",
      "/Users/blancacanocamarero/miniforge3/envs/tensorflow/lib/python3.9/site-packages/sklearn/utils/extmath.py:153: RuntimeWarning: overflow encountered in matmul\n",
      "  ret = a @ b\n",
      "/Users/blancacanocamarero/miniforge3/envs/tensorflow/lib/python3.9/site-packages/sklearn/neural_network/_base.py:129: RuntimeWarning: invalid value encountered in multiply\n",
      "  delta *= 1 - Z ** 2\n",
      "/Users/blancacanocamarero/miniforge3/envs/tensorflow/lib/python3.9/site-packages/sklearn/neural_network/_multilayer_perceptron.py:692: ConvergenceWarning: Stochastic Optimizer: Maximum iterations (41) reached and the optimization hasn't converged yet.\n",
      "  warnings.warn(\n",
      "/Users/blancacanocamarero/miniforge3/envs/tensorflow/lib/python3.9/site-packages/sklearn/neural_network/_multilayer_perceptron.py:692: ConvergenceWarning: Stochastic Optimizer: Maximum iterations (1) reached and the optimization hasn't converged yet.\n",
      "  warnings.warn(\n"
     ]
    },
    {
     "name": "stdout",
     "output_type": "stream",
     "text": [
      "Batch  16  Number of iterations 41 ECM: nan\n",
      "Batch  32  Number of iterations 1 ECM: 1372884976720066350429159555072.000\n"
     ]
    },
    {
     "name": "stderr",
     "output_type": "stream",
     "text": [
      "/Users/blancacanocamarero/miniforge3/envs/tensorflow/lib/python3.9/site-packages/numpy/core/_methods.py:160: RuntimeWarning: overflow encountered in reduce\n",
      "  ret = umr_sum(arr, axis, dtype, out, keepdims)\n",
      "/Users/blancacanocamarero/miniforge3/envs/tensorflow/lib/python3.9/site-packages/sklearn/neural_network/_base.py:174: RuntimeWarning: overflow encountered in square\n",
      "  return ((y_true - y_pred) ** 2).mean() / 2\n",
      "/Users/blancacanocamarero/miniforge3/envs/tensorflow/lib/python3.9/site-packages/sklearn/neural_network/_multilayer_perceptron.py:291: RuntimeWarning: invalid value encountered in double_scalars\n",
      "  loss += (0.5 * self.alpha) * values / n_samples\n",
      "/Users/blancacanocamarero/miniforge3/envs/tensorflow/lib/python3.9/site-packages/sklearn/utils/extmath.py:153: RuntimeWarning: overflow encountered in matmul\n",
      "  ret = a @ b\n",
      "/Users/blancacanocamarero/miniforge3/envs/tensorflow/lib/python3.9/site-packages/sklearn/neural_network/_base.py:129: RuntimeWarning: invalid value encountered in multiply\n",
      "  delta *= 1 - Z ** 2\n",
      "/Users/blancacanocamarero/miniforge3/envs/tensorflow/lib/python3.9/site-packages/sklearn/neural_network/_multilayer_perceptron.py:692: ConvergenceWarning: Stochastic Optimizer: Maximum iterations (11) reached and the optimization hasn't converged yet.\n",
      "  warnings.warn(\n"
     ]
    },
    {
     "name": "stdout",
     "output_type": "stream",
     "text": [
      "Batch  32  Number of iterations 11 ECM: nan\n"
     ]
    },
    {
     "name": "stderr",
     "output_type": "stream",
     "text": [
      "/Users/blancacanocamarero/miniforge3/envs/tensorflow/lib/python3.9/site-packages/numpy/core/_methods.py:160: RuntimeWarning: overflow encountered in reduce\n",
      "  ret = umr_sum(arr, axis, dtype, out, keepdims)\n",
      "/Users/blancacanocamarero/miniforge3/envs/tensorflow/lib/python3.9/site-packages/sklearn/neural_network/_base.py:174: RuntimeWarning: overflow encountered in square\n",
      "  return ((y_true - y_pred) ** 2).mean() / 2\n",
      "/Users/blancacanocamarero/miniforge3/envs/tensorflow/lib/python3.9/site-packages/sklearn/neural_network/_multilayer_perceptron.py:291: RuntimeWarning: invalid value encountered in double_scalars\n",
      "  loss += (0.5 * self.alpha) * values / n_samples\n",
      "/Users/blancacanocamarero/miniforge3/envs/tensorflow/lib/python3.9/site-packages/sklearn/utils/extmath.py:153: RuntimeWarning: overflow encountered in matmul\n",
      "  ret = a @ b\n",
      "/Users/blancacanocamarero/miniforge3/envs/tensorflow/lib/python3.9/site-packages/sklearn/neural_network/_base.py:129: RuntimeWarning: invalid value encountered in multiply\n",
      "  delta *= 1 - Z ** 2\n",
      "/Users/blancacanocamarero/miniforge3/envs/tensorflow/lib/python3.9/site-packages/sklearn/neural_network/_multilayer_perceptron.py:692: ConvergenceWarning: Stochastic Optimizer: Maximum iterations (21) reached and the optimization hasn't converged yet.\n",
      "  warnings.warn(\n"
     ]
    },
    {
     "name": "stdout",
     "output_type": "stream",
     "text": [
      "Batch  32  Number of iterations 21 ECM: nan\n"
     ]
    },
    {
     "name": "stderr",
     "output_type": "stream",
     "text": [
      "/Users/blancacanocamarero/miniforge3/envs/tensorflow/lib/python3.9/site-packages/numpy/core/_methods.py:160: RuntimeWarning: overflow encountered in reduce\n",
      "  ret = umr_sum(arr, axis, dtype, out, keepdims)\n",
      "/Users/blancacanocamarero/miniforge3/envs/tensorflow/lib/python3.9/site-packages/sklearn/neural_network/_base.py:174: RuntimeWarning: overflow encountered in square\n",
      "  return ((y_true - y_pred) ** 2).mean() / 2\n",
      "/Users/blancacanocamarero/miniforge3/envs/tensorflow/lib/python3.9/site-packages/sklearn/neural_network/_multilayer_perceptron.py:291: RuntimeWarning: invalid value encountered in double_scalars\n",
      "  loss += (0.5 * self.alpha) * values / n_samples\n",
      "/Users/blancacanocamarero/miniforge3/envs/tensorflow/lib/python3.9/site-packages/sklearn/utils/extmath.py:153: RuntimeWarning: overflow encountered in matmul\n",
      "  ret = a @ b\n",
      "/Users/blancacanocamarero/miniforge3/envs/tensorflow/lib/python3.9/site-packages/sklearn/neural_network/_base.py:129: RuntimeWarning: invalid value encountered in multiply\n",
      "  delta *= 1 - Z ** 2\n",
      "/Users/blancacanocamarero/miniforge3/envs/tensorflow/lib/python3.9/site-packages/sklearn/neural_network/_multilayer_perceptron.py:692: ConvergenceWarning: Stochastic Optimizer: Maximum iterations (31) reached and the optimization hasn't converged yet.\n",
      "  warnings.warn(\n"
     ]
    },
    {
     "name": "stdout",
     "output_type": "stream",
     "text": [
      "Batch  32  Number of iterations 31 ECM: nan\n"
     ]
    },
    {
     "name": "stderr",
     "output_type": "stream",
     "text": [
      "/Users/blancacanocamarero/miniforge3/envs/tensorflow/lib/python3.9/site-packages/numpy/core/_methods.py:160: RuntimeWarning: overflow encountered in reduce\n",
      "  ret = umr_sum(arr, axis, dtype, out, keepdims)\n",
      "/Users/blancacanocamarero/miniforge3/envs/tensorflow/lib/python3.9/site-packages/sklearn/neural_network/_base.py:174: RuntimeWarning: overflow encountered in square\n",
      "  return ((y_true - y_pred) ** 2).mean() / 2\n",
      "/Users/blancacanocamarero/miniforge3/envs/tensorflow/lib/python3.9/site-packages/sklearn/neural_network/_multilayer_perceptron.py:291: RuntimeWarning: invalid value encountered in double_scalars\n",
      "  loss += (0.5 * self.alpha) * values / n_samples\n",
      "/Users/blancacanocamarero/miniforge3/envs/tensorflow/lib/python3.9/site-packages/sklearn/utils/extmath.py:153: RuntimeWarning: overflow encountered in matmul\n",
      "  ret = a @ b\n",
      "/Users/blancacanocamarero/miniforge3/envs/tensorflow/lib/python3.9/site-packages/sklearn/neural_network/_base.py:129: RuntimeWarning: invalid value encountered in multiply\n",
      "  delta *= 1 - Z ** 2\n",
      "/Users/blancacanocamarero/miniforge3/envs/tensorflow/lib/python3.9/site-packages/sklearn/neural_network/_multilayer_perceptron.py:692: ConvergenceWarning: Stochastic Optimizer: Maximum iterations (41) reached and the optimization hasn't converged yet.\n",
      "  warnings.warn(\n",
      "/Users/blancacanocamarero/miniforge3/envs/tensorflow/lib/python3.9/site-packages/sklearn/neural_network/_multilayer_perceptron.py:692: ConvergenceWarning: Stochastic Optimizer: Maximum iterations (1) reached and the optimization hasn't converged yet.\n",
      "  warnings.warn(\n"
     ]
    },
    {
     "name": "stdout",
     "output_type": "stream",
     "text": [
      "Batch  32  Number of iterations 41 ECM: nan\n",
      "Batch  64  Number of iterations 1 ECM: 2448753634459604992.000\n"
     ]
    },
    {
     "name": "stderr",
     "output_type": "stream",
     "text": [
      "/Users/blancacanocamarero/miniforge3/envs/tensorflow/lib/python3.9/site-packages/sklearn/neural_network/_multilayer_perceptron.py:692: ConvergenceWarning: Stochastic Optimizer: Maximum iterations (11) reached and the optimization hasn't converged yet.\n",
      "  warnings.warn(\n"
     ]
    },
    {
     "name": "stdout",
     "output_type": "stream",
     "text": [
      "Batch  64  Number of iterations 11 ECM: 201451988405403117089647750444055691930200152401591753295828336798221810860065524858061574932508763263005370195998200082071026688455606272.000\n",
      "Batch  64  Number of iterations 12 ECM: 153026648360575159767282836399641939029200262076251552661181214961487146136003359595006357816276362090170159043467363197773457533982720742676148256768.000\n",
      "Batch  64  Number of iterations 12 ECM: 302728546395187538814524379440359286059588540888198346210264981225428212120169654107721303631311548970067958498226305157848729549899124194930136711168.000\n",
      "Batch  64  Number of iterations 12 ECM: 255094868384063770264469894518521991166414750077212360887279490506997095634758666066831273334344086449615926607213809560255584485424359521591748460544.000\n",
      "Batch  200  Number of iterations 1 ECM: 38909020733.850\n"
     ]
    },
    {
     "name": "stderr",
     "output_type": "stream",
     "text": [
      "/Users/blancacanocamarero/miniforge3/envs/tensorflow/lib/python3.9/site-packages/sklearn/neural_network/_multilayer_perceptron.py:692: ConvergenceWarning: Stochastic Optimizer: Maximum iterations (1) reached and the optimization hasn't converged yet.\n",
      "  warnings.warn(\n",
      "/Users/blancacanocamarero/miniforge3/envs/tensorflow/lib/python3.9/site-packages/sklearn/neural_network/_multilayer_perceptron.py:692: ConvergenceWarning: Stochastic Optimizer: Maximum iterations (11) reached and the optimization hasn't converged yet.\n",
      "  warnings.warn(\n"
     ]
    },
    {
     "name": "stdout",
     "output_type": "stream",
     "text": [
      "Batch  200  Number of iterations 11 ECM: 135646844619495026870727210397700415096948227309568.000\n",
      "Batch  200  Number of iterations 12 ECM: 1129207723003659009906997767771750753460642561910636544.000\n",
      "Batch  200  Number of iterations 12 ECM: 1526570575827857178100526103264397155079227477290123264.000\n",
      "Batch  200  Number of iterations 12 ECM: 1374464545431974874354231577722259037369175931902492672.000\n",
      "SE initialization algorithm 509921891.852\n",
      "Batch  1  Number of iterations 1 ECM: 21201919.969\n"
     ]
    },
    {
     "name": "stderr",
     "output_type": "stream",
     "text": [
      "/Users/blancacanocamarero/miniforge3/envs/tensorflow/lib/python3.9/site-packages/sklearn/neural_network/_multilayer_perceptron.py:692: ConvergenceWarning: Stochastic Optimizer: Maximum iterations (1) reached and the optimization hasn't converged yet.\n",
      "  warnings.warn(\n",
      "/Users/blancacanocamarero/miniforge3/envs/tensorflow/lib/python3.9/site-packages/sklearn/neural_network/_multilayer_perceptron.py:692: ConvergenceWarning: Stochastic Optimizer: Maximum iterations (11) reached and the optimization hasn't converged yet.\n",
      "  warnings.warn(\n"
     ]
    },
    {
     "name": "stdout",
     "output_type": "stream",
     "text": [
      "Batch  1  Number of iterations 11 ECM: 23724375.830\n"
     ]
    },
    {
     "name": "stderr",
     "output_type": "stream",
     "text": [
      "/Users/blancacanocamarero/miniforge3/envs/tensorflow/lib/python3.9/site-packages/sklearn/neural_network/_multilayer_perceptron.py:692: ConvergenceWarning: Stochastic Optimizer: Maximum iterations (21) reached and the optimization hasn't converged yet.\n",
      "  warnings.warn(\n"
     ]
    },
    {
     "name": "stdout",
     "output_type": "stream",
     "text": [
      "Batch  1  Number of iterations 21 ECM: 22329589.473\n"
     ]
    },
    {
     "name": "stderr",
     "output_type": "stream",
     "text": [
      "/Users/blancacanocamarero/miniforge3/envs/tensorflow/lib/python3.9/site-packages/sklearn/neural_network/_multilayer_perceptron.py:692: ConvergenceWarning: Stochastic Optimizer: Maximum iterations (31) reached and the optimization hasn't converged yet.\n",
      "  warnings.warn(\n"
     ]
    },
    {
     "name": "stdout",
     "output_type": "stream",
     "text": [
      "Batch  1  Number of iterations 31 ECM: 33357536.607\n",
      "Batch  1  Number of iterations 28 ECM: 47166600.858\n",
      "Batch  16  Number of iterations 1 ECM: 21137850.253\n",
      "Batch  16  Number of iterations 11 ECM: 20724500.899\n"
     ]
    },
    {
     "name": "stderr",
     "output_type": "stream",
     "text": [
      "/Users/blancacanocamarero/miniforge3/envs/tensorflow/lib/python3.9/site-packages/sklearn/neural_network/_multilayer_perceptron.py:692: ConvergenceWarning: Stochastic Optimizer: Maximum iterations (1) reached and the optimization hasn't converged yet.\n",
      "  warnings.warn(\n",
      "/Users/blancacanocamarero/miniforge3/envs/tensorflow/lib/python3.9/site-packages/sklearn/neural_network/_multilayer_perceptron.py:692: ConvergenceWarning: Stochastic Optimizer: Maximum iterations (11) reached and the optimization hasn't converged yet.\n",
      "  warnings.warn(\n"
     ]
    },
    {
     "name": "stdout",
     "output_type": "stream",
     "text": [
      "Batch  16  Number of iterations 18 ECM: 21078864.272\n",
      "Batch  16  Number of iterations 30 ECM: 20800578.103\n",
      "Batch  16  Number of iterations 24 ECM: 21099558.265\n",
      "Batch  32  Number of iterations 1 ECM: 21358929.879\n",
      "Batch  32  Number of iterations 11 ECM: 20952066.636\n"
     ]
    },
    {
     "name": "stderr",
     "output_type": "stream",
     "text": [
      "/Users/blancacanocamarero/miniforge3/envs/tensorflow/lib/python3.9/site-packages/sklearn/neural_network/_multilayer_perceptron.py:692: ConvergenceWarning: Stochastic Optimizer: Maximum iterations (1) reached and the optimization hasn't converged yet.\n",
      "  warnings.warn(\n",
      "/Users/blancacanocamarero/miniforge3/envs/tensorflow/lib/python3.9/site-packages/sklearn/neural_network/_multilayer_perceptron.py:692: ConvergenceWarning: Stochastic Optimizer: Maximum iterations (11) reached and the optimization hasn't converged yet.\n",
      "  warnings.warn(\n"
     ]
    },
    {
     "name": "stdout",
     "output_type": "stream",
     "text": [
      "Batch  32  Number of iterations 16 ECM: 21198514.417\n",
      "Batch  32  Number of iterations 30 ECM: 21247252.547\n",
      "Batch  32  Number of iterations 16 ECM: 20864230.164\n",
      "Batch  64  Number of iterations 1 ECM: 21514699.253\n"
     ]
    },
    {
     "name": "stderr",
     "output_type": "stream",
     "text": [
      "/Users/blancacanocamarero/miniforge3/envs/tensorflow/lib/python3.9/site-packages/sklearn/neural_network/_multilayer_perceptron.py:692: ConvergenceWarning: Stochastic Optimizer: Maximum iterations (1) reached and the optimization hasn't converged yet.\n",
      "  warnings.warn(\n",
      "/Users/blancacanocamarero/miniforge3/envs/tensorflow/lib/python3.9/site-packages/sklearn/neural_network/_multilayer_perceptron.py:692: ConvergenceWarning: Stochastic Optimizer: Maximum iterations (11) reached and the optimization hasn't converged yet.\n",
      "  warnings.warn(\n"
     ]
    },
    {
     "name": "stdout",
     "output_type": "stream",
     "text": [
      "Batch  64  Number of iterations 11 ECM: 21800301.433\n"
     ]
    },
    {
     "name": "stderr",
     "output_type": "stream",
     "text": [
      "/Users/blancacanocamarero/miniforge3/envs/tensorflow/lib/python3.9/site-packages/sklearn/neural_network/_multilayer_perceptron.py:692: ConvergenceWarning: Stochastic Optimizer: Maximum iterations (21) reached and the optimization hasn't converged yet.\n",
      "  warnings.warn(\n"
     ]
    },
    {
     "name": "stdout",
     "output_type": "stream",
     "text": [
      "Batch  64  Number of iterations 21 ECM: 21836051.350\n",
      "Batch  64  Number of iterations 19 ECM: 20939718.866\n",
      "Batch  64  Number of iterations 18 ECM: 21392952.598\n",
      "Batch  200  Number of iterations 1 ECM: 21554012.211\n"
     ]
    },
    {
     "name": "stderr",
     "output_type": "stream",
     "text": [
      "/Users/blancacanocamarero/miniforge3/envs/tensorflow/lib/python3.9/site-packages/sklearn/neural_network/_multilayer_perceptron.py:692: ConvergenceWarning: Stochastic Optimizer: Maximum iterations (1) reached and the optimization hasn't converged yet.\n",
      "  warnings.warn(\n",
      "/Users/blancacanocamarero/miniforge3/envs/tensorflow/lib/python3.9/site-packages/sklearn/neural_network/_multilayer_perceptron.py:692: ConvergenceWarning: Stochastic Optimizer: Maximum iterations (11) reached and the optimization hasn't converged yet.\n",
      "  warnings.warn(\n"
     ]
    },
    {
     "name": "stdout",
     "output_type": "stream",
     "text": [
      "Batch  200  Number of iterations 11 ECM: 21775433.539\n"
     ]
    },
    {
     "name": "stderr",
     "output_type": "stream",
     "text": [
      "/Users/blancacanocamarero/miniforge3/envs/tensorflow/lib/python3.9/site-packages/sklearn/neural_network/_multilayer_perceptron.py:692: ConvergenceWarning: Stochastic Optimizer: Maximum iterations (21) reached and the optimization hasn't converged yet.\n",
      "  warnings.warn(\n"
     ]
    },
    {
     "name": "stdout",
     "output_type": "stream",
     "text": [
      "Batch  200  Number of iterations 21 ECM: 21651510.028\n"
     ]
    },
    {
     "name": "stderr",
     "output_type": "stream",
     "text": [
      "/Users/blancacanocamarero/miniforge3/envs/tensorflow/lib/python3.9/site-packages/sklearn/neural_network/_multilayer_perceptron.py:692: ConvergenceWarning: Stochastic Optimizer: Maximum iterations (31) reached and the optimization hasn't converged yet.\n",
      "  warnings.warn(\n"
     ]
    },
    {
     "name": "stdout",
     "output_type": "stream",
     "text": [
      "Batch  200  Number of iterations 31 ECM: 21067855.460\n",
      "Batch  200  Number of iterations 15 ECM: 21004636.421\n",
      "SE initialization algorithm 452933057.211\n"
     ]
    },
    {
     "name": "stderr",
     "output_type": "stream",
     "text": [
      "/Users/blancacanocamarero/miniforge3/envs/tensorflow/lib/python3.9/site-packages/sklearn/neural_network/_multilayer_perceptron.py:692: ConvergenceWarning: Stochastic Optimizer: Maximum iterations (1) reached and the optimization hasn't converged yet.\n",
      "  warnings.warn(\n"
     ]
    },
    {
     "name": "stdout",
     "output_type": "stream",
     "text": [
      "Batch  1  Number of iterations 1 ECM: 24407641.489\n"
     ]
    },
    {
     "name": "stderr",
     "output_type": "stream",
     "text": [
      "/Users/blancacanocamarero/miniforge3/envs/tensorflow/lib/python3.9/site-packages/sklearn/neural_network/_multilayer_perceptron.py:692: ConvergenceWarning: Stochastic Optimizer: Maximum iterations (11) reached and the optimization hasn't converged yet.\n",
      "  warnings.warn(\n"
     ]
    },
    {
     "name": "stdout",
     "output_type": "stream",
     "text": [
      "Batch  1  Number of iterations 11 ECM: 38113759.190\n",
      "Batch  1  Number of iterations 21 ECM: 79232992.113\n",
      "Batch  1  Number of iterations 26 ECM: 31583382.055\n",
      "Batch  1  Number of iterations 23 ECM: 21917341.146\n",
      "Batch  16  Number of iterations 1 ECM: 23722171.084\n"
     ]
    },
    {
     "name": "stderr",
     "output_type": "stream",
     "text": [
      "/Users/blancacanocamarero/miniforge3/envs/tensorflow/lib/python3.9/site-packages/sklearn/neural_network/_multilayer_perceptron.py:692: ConvergenceWarning: Stochastic Optimizer: Maximum iterations (1) reached and the optimization hasn't converged yet.\n",
      "  warnings.warn(\n",
      "/Users/blancacanocamarero/miniforge3/envs/tensorflow/lib/python3.9/site-packages/sklearn/neural_network/_multilayer_perceptron.py:692: ConvergenceWarning: Stochastic Optimizer: Maximum iterations (11) reached and the optimization hasn't converged yet.\n",
      "  warnings.warn(\n"
     ]
    },
    {
     "name": "stdout",
     "output_type": "stream",
     "text": [
      "Batch  16  Number of iterations 11 ECM: 21376022.532\n",
      "Batch  16  Number of iterations 13 ECM: 23308712.962\n",
      "Batch  16  Number of iterations 19 ECM: 20927968.276\n",
      "Batch  16  Number of iterations 25 ECM: 22720271.676\n",
      "Batch  32  Number of iterations 1 ECM: 23989369.813\n"
     ]
    },
    {
     "name": "stderr",
     "output_type": "stream",
     "text": [
      "/Users/blancacanocamarero/miniforge3/envs/tensorflow/lib/python3.9/site-packages/sklearn/neural_network/_multilayer_perceptron.py:692: ConvergenceWarning: Stochastic Optimizer: Maximum iterations (1) reached and the optimization hasn't converged yet.\n",
      "  warnings.warn(\n",
      "/Users/blancacanocamarero/miniforge3/envs/tensorflow/lib/python3.9/site-packages/sklearn/neural_network/_multilayer_perceptron.py:692: ConvergenceWarning: Stochastic Optimizer: Maximum iterations (11) reached and the optimization hasn't converged yet.\n",
      "  warnings.warn(\n"
     ]
    },
    {
     "name": "stdout",
     "output_type": "stream",
     "text": [
      "Batch  32  Number of iterations 11 ECM: 29696345.817\n"
     ]
    },
    {
     "name": "stderr",
     "output_type": "stream",
     "text": [
      "/Users/blancacanocamarero/miniforge3/envs/tensorflow/lib/python3.9/site-packages/sklearn/neural_network/_multilayer_perceptron.py:692: ConvergenceWarning: Stochastic Optimizer: Maximum iterations (21) reached and the optimization hasn't converged yet.\n",
      "  warnings.warn(\n"
     ]
    },
    {
     "name": "stdout",
     "output_type": "stream",
     "text": [
      "Batch  32  Number of iterations 21 ECM: 30086246.034\n",
      "Batch  32  Number of iterations 21 ECM: 25607339.284\n",
      "Batch  32  Number of iterations 21 ECM: 26103360.285\n",
      "Batch  64  Number of iterations 1 ECM: 29760069.531\n"
     ]
    },
    {
     "name": "stderr",
     "output_type": "stream",
     "text": [
      "/Users/blancacanocamarero/miniforge3/envs/tensorflow/lib/python3.9/site-packages/sklearn/neural_network/_multilayer_perceptron.py:692: ConvergenceWarning: Stochastic Optimizer: Maximum iterations (1) reached and the optimization hasn't converged yet.\n",
      "  warnings.warn(\n",
      "/Users/blancacanocamarero/miniforge3/envs/tensorflow/lib/python3.9/site-packages/sklearn/neural_network/_multilayer_perceptron.py:692: ConvergenceWarning: Stochastic Optimizer: Maximum iterations (11) reached and the optimization hasn't converged yet.\n",
      "  warnings.warn(\n"
     ]
    },
    {
     "name": "stdout",
     "output_type": "stream",
     "text": [
      "Batch  64  Number of iterations 11 ECM: 39744098.817\n"
     ]
    },
    {
     "name": "stderr",
     "output_type": "stream",
     "text": [
      "/Users/blancacanocamarero/miniforge3/envs/tensorflow/lib/python3.9/site-packages/sklearn/neural_network/_multilayer_perceptron.py:692: ConvergenceWarning: Stochastic Optimizer: Maximum iterations (21) reached and the optimization hasn't converged yet.\n",
      "  warnings.warn(\n"
     ]
    },
    {
     "name": "stdout",
     "output_type": "stream",
     "text": [
      "Batch  64  Number of iterations 21 ECM: 24867744.369\n",
      "Batch  64  Number of iterations 26 ECM: 28734175.570\n",
      "Batch  64  Number of iterations 14 ECM: 27033005.962\n",
      "Batch  200  Number of iterations 1 ECM: 25242320.059\n"
     ]
    },
    {
     "name": "stderr",
     "output_type": "stream",
     "text": [
      "/Users/blancacanocamarero/miniforge3/envs/tensorflow/lib/python3.9/site-packages/sklearn/neural_network/_multilayer_perceptron.py:692: ConvergenceWarning: Stochastic Optimizer: Maximum iterations (1) reached and the optimization hasn't converged yet.\n",
      "  warnings.warn(\n",
      "/Users/blancacanocamarero/miniforge3/envs/tensorflow/lib/python3.9/site-packages/sklearn/neural_network/_multilayer_perceptron.py:692: ConvergenceWarning: Stochastic Optimizer: Maximum iterations (11) reached and the optimization hasn't converged yet.\n",
      "  warnings.warn(\n"
     ]
    },
    {
     "name": "stdout",
     "output_type": "stream",
     "text": [
      "Batch  200  Number of iterations 11 ECM: 30643162.487\n"
     ]
    },
    {
     "name": "stderr",
     "output_type": "stream",
     "text": [
      "/Users/blancacanocamarero/miniforge3/envs/tensorflow/lib/python3.9/site-packages/sklearn/neural_network/_multilayer_perceptron.py:692: ConvergenceWarning: Stochastic Optimizer: Maximum iterations (21) reached and the optimization hasn't converged yet.\n",
      "  warnings.warn(\n"
     ]
    },
    {
     "name": "stdout",
     "output_type": "stream",
     "text": [
      "Batch  200  Number of iterations 21 ECM: 35128201.043\n",
      "Batch  200  Number of iterations 21 ECM: 32317893.586\n",
      "Batch  200  Number of iterations 13 ECM: 34854389.220\n",
      "SE initialization algorithm 467752146.948\n"
     ]
    },
    {
     "name": "stderr",
     "output_type": "stream",
     "text": [
      "/Users/blancacanocamarero/miniforge3/envs/tensorflow/lib/python3.9/site-packages/sklearn/neural_network/_multilayer_perceptron.py:291: RuntimeWarning: invalid value encountered in double_scalars\n",
      "  loss += (0.5 * self.alpha) * values / n_samples\n",
      "/Users/blancacanocamarero/miniforge3/envs/tensorflow/lib/python3.9/site-packages/sklearn/neural_network/_base.py:174: RuntimeWarning: overflow encountered in square\n",
      "  return ((y_true - y_pred) ** 2).mean() / 2\n",
      "/Users/blancacanocamarero/miniforge3/envs/tensorflow/lib/python3.9/site-packages/sklearn/utils/extmath.py:153: RuntimeWarning: overflow encountered in matmul\n",
      "  ret = a @ b\n",
      "/Users/blancacanocamarero/miniforge3/envs/tensorflow/lib/python3.9/site-packages/sklearn/neural_network/_base.py:129: RuntimeWarning: invalid value encountered in multiply\n",
      "  delta *= 1 - Z ** 2\n",
      "/Users/blancacanocamarero/miniforge3/envs/tensorflow/lib/python3.9/site-packages/sklearn/neural_network/_multilayer_perceptron.py:692: ConvergenceWarning: Stochastic Optimizer: Maximum iterations (1) reached and the optimization hasn't converged yet.\n",
      "  warnings.warn(\n",
      "/Users/blancacanocamarero/miniforge3/envs/tensorflow/lib/python3.9/site-packages/sklearn/neural_network/_multilayer_perceptron.py:291: RuntimeWarning: invalid value encountered in double_scalars\n",
      "  loss += (0.5 * self.alpha) * values / n_samples\n",
      "/Users/blancacanocamarero/miniforge3/envs/tensorflow/lib/python3.9/site-packages/sklearn/neural_network/_base.py:174: RuntimeWarning: overflow encountered in square\n",
      "  return ((y_true - y_pred) ** 2).mean() / 2\n",
      "/Users/blancacanocamarero/miniforge3/envs/tensorflow/lib/python3.9/site-packages/sklearn/utils/extmath.py:153: RuntimeWarning: overflow encountered in matmul\n",
      "  ret = a @ b\n",
      "/Users/blancacanocamarero/miniforge3/envs/tensorflow/lib/python3.9/site-packages/sklearn/neural_network/_base.py:129: RuntimeWarning: invalid value encountered in multiply\n",
      "  delta *= 1 - Z ** 2\n"
     ]
    },
    {
     "name": "stdout",
     "output_type": "stream",
     "text": [
      "Batch  1  Number of iterations 1 ECM: nan\n"
     ]
    },
    {
     "name": "stderr",
     "output_type": "stream",
     "text": [
      "/Users/blancacanocamarero/miniforge3/envs/tensorflow/lib/python3.9/site-packages/sklearn/neural_network/_multilayer_perceptron.py:692: ConvergenceWarning: Stochastic Optimizer: Maximum iterations (11) reached and the optimization hasn't converged yet.\n",
      "  warnings.warn(\n",
      "/Users/blancacanocamarero/miniforge3/envs/tensorflow/lib/python3.9/site-packages/sklearn/neural_network/_multilayer_perceptron.py:291: RuntimeWarning: invalid value encountered in double_scalars\n",
      "  loss += (0.5 * self.alpha) * values / n_samples\n",
      "/Users/blancacanocamarero/miniforge3/envs/tensorflow/lib/python3.9/site-packages/sklearn/neural_network/_base.py:174: RuntimeWarning: overflow encountered in square\n",
      "  return ((y_true - y_pred) ** 2).mean() / 2\n",
      "/Users/blancacanocamarero/miniforge3/envs/tensorflow/lib/python3.9/site-packages/sklearn/utils/extmath.py:153: RuntimeWarning: overflow encountered in matmul\n",
      "  ret = a @ b\n",
      "/Users/blancacanocamarero/miniforge3/envs/tensorflow/lib/python3.9/site-packages/sklearn/neural_network/_base.py:129: RuntimeWarning: invalid value encountered in multiply\n",
      "  delta *= 1 - Z ** 2\n"
     ]
    },
    {
     "name": "stdout",
     "output_type": "stream",
     "text": [
      "Batch  1  Number of iterations 11 ECM: nan\n"
     ]
    },
    {
     "name": "stderr",
     "output_type": "stream",
     "text": [
      "/Users/blancacanocamarero/miniforge3/envs/tensorflow/lib/python3.9/site-packages/sklearn/neural_network/_multilayer_perceptron.py:692: ConvergenceWarning: Stochastic Optimizer: Maximum iterations (21) reached and the optimization hasn't converged yet.\n",
      "  warnings.warn(\n",
      "/Users/blancacanocamarero/miniforge3/envs/tensorflow/lib/python3.9/site-packages/sklearn/neural_network/_multilayer_perceptron.py:291: RuntimeWarning: invalid value encountered in double_scalars\n",
      "  loss += (0.5 * self.alpha) * values / n_samples\n",
      "/Users/blancacanocamarero/miniforge3/envs/tensorflow/lib/python3.9/site-packages/sklearn/neural_network/_base.py:174: RuntimeWarning: overflow encountered in square\n",
      "  return ((y_true - y_pred) ** 2).mean() / 2\n",
      "/Users/blancacanocamarero/miniforge3/envs/tensorflow/lib/python3.9/site-packages/sklearn/utils/extmath.py:153: RuntimeWarning: overflow encountered in matmul\n",
      "  ret = a @ b\n",
      "/Users/blancacanocamarero/miniforge3/envs/tensorflow/lib/python3.9/site-packages/sklearn/neural_network/_base.py:129: RuntimeWarning: invalid value encountered in multiply\n",
      "  delta *= 1 - Z ** 2\n"
     ]
    },
    {
     "name": "stdout",
     "output_type": "stream",
     "text": [
      "Batch  1  Number of iterations 21 ECM: nan\n"
     ]
    },
    {
     "name": "stderr",
     "output_type": "stream",
     "text": [
      "/Users/blancacanocamarero/miniforge3/envs/tensorflow/lib/python3.9/site-packages/sklearn/neural_network/_multilayer_perceptron.py:692: ConvergenceWarning: Stochastic Optimizer: Maximum iterations (31) reached and the optimization hasn't converged yet.\n",
      "  warnings.warn(\n",
      "/Users/blancacanocamarero/miniforge3/envs/tensorflow/lib/python3.9/site-packages/sklearn/neural_network/_multilayer_perceptron.py:291: RuntimeWarning: invalid value encountered in double_scalars\n",
      "  loss += (0.5 * self.alpha) * values / n_samples\n",
      "/Users/blancacanocamarero/miniforge3/envs/tensorflow/lib/python3.9/site-packages/sklearn/neural_network/_base.py:174: RuntimeWarning: overflow encountered in square\n",
      "  return ((y_true - y_pred) ** 2).mean() / 2\n",
      "/Users/blancacanocamarero/miniforge3/envs/tensorflow/lib/python3.9/site-packages/sklearn/utils/extmath.py:153: RuntimeWarning: overflow encountered in matmul\n",
      "  ret = a @ b\n",
      "/Users/blancacanocamarero/miniforge3/envs/tensorflow/lib/python3.9/site-packages/sklearn/neural_network/_base.py:129: RuntimeWarning: invalid value encountered in multiply\n",
      "  delta *= 1 - Z ** 2\n"
     ]
    },
    {
     "name": "stdout",
     "output_type": "stream",
     "text": [
      "Batch  1  Number of iterations 31 ECM: nan\n"
     ]
    },
    {
     "name": "stderr",
     "output_type": "stream",
     "text": [
      "/Users/blancacanocamarero/miniforge3/envs/tensorflow/lib/python3.9/site-packages/sklearn/neural_network/_multilayer_perceptron.py:692: ConvergenceWarning: Stochastic Optimizer: Maximum iterations (41) reached and the optimization hasn't converged yet.\n",
      "  warnings.warn(\n"
     ]
    },
    {
     "name": "stdout",
     "output_type": "stream",
     "text": [
      "Batch  1  Number of iterations 41 ECM: nan\n"
     ]
    },
    {
     "name": "stderr",
     "output_type": "stream",
     "text": [
      "/Users/blancacanocamarero/miniforge3/envs/tensorflow/lib/python3.9/site-packages/sklearn/neural_network/_multilayer_perceptron.py:692: ConvergenceWarning: Stochastic Optimizer: Maximum iterations (1) reached and the optimization hasn't converged yet.\n",
      "  warnings.warn(\n"
     ]
    },
    {
     "name": "stdout",
     "output_type": "stream",
     "text": [
      "Batch  16  Number of iterations 1 ECM: 18492990200987138026431196409401534071267601439260672.000\n"
     ]
    },
    {
     "name": "stderr",
     "output_type": "stream",
     "text": [
      "/Users/blancacanocamarero/miniforge3/envs/tensorflow/lib/python3.9/site-packages/numpy/core/_methods.py:160: RuntimeWarning: overflow encountered in reduce\n",
      "  ret = umr_sum(arr, axis, dtype, out, keepdims)\n",
      "/Users/blancacanocamarero/miniforge3/envs/tensorflow/lib/python3.9/site-packages/sklearn/neural_network/_base.py:174: RuntimeWarning: overflow encountered in square\n",
      "  return ((y_true - y_pred) ** 2).mean() / 2\n",
      "/Users/blancacanocamarero/miniforge3/envs/tensorflow/lib/python3.9/site-packages/sklearn/neural_network/_multilayer_perceptron.py:291: RuntimeWarning: invalid value encountered in double_scalars\n",
      "  loss += (0.5 * self.alpha) * values / n_samples\n",
      "/Users/blancacanocamarero/miniforge3/envs/tensorflow/lib/python3.9/site-packages/sklearn/utils/extmath.py:153: RuntimeWarning: overflow encountered in matmul\n",
      "  ret = a @ b\n",
      "/Users/blancacanocamarero/miniforge3/envs/tensorflow/lib/python3.9/site-packages/sklearn/neural_network/_base.py:129: RuntimeWarning: invalid value encountered in multiply\n",
      "  delta *= 1 - Z ** 2\n",
      "/Users/blancacanocamarero/miniforge3/envs/tensorflow/lib/python3.9/site-packages/sklearn/neural_network/_multilayer_perceptron.py:692: ConvergenceWarning: Stochastic Optimizer: Maximum iterations (11) reached and the optimization hasn't converged yet.\n",
      "  warnings.warn(\n"
     ]
    },
    {
     "name": "stdout",
     "output_type": "stream",
     "text": [
      "Batch  16  Number of iterations 11 ECM: nan\n"
     ]
    },
    {
     "name": "stderr",
     "output_type": "stream",
     "text": [
      "/Users/blancacanocamarero/miniforge3/envs/tensorflow/lib/python3.9/site-packages/numpy/core/_methods.py:160: RuntimeWarning: overflow encountered in reduce\n",
      "  ret = umr_sum(arr, axis, dtype, out, keepdims)\n",
      "/Users/blancacanocamarero/miniforge3/envs/tensorflow/lib/python3.9/site-packages/sklearn/neural_network/_base.py:174: RuntimeWarning: overflow encountered in square\n",
      "  return ((y_true - y_pred) ** 2).mean() / 2\n",
      "/Users/blancacanocamarero/miniforge3/envs/tensorflow/lib/python3.9/site-packages/sklearn/neural_network/_multilayer_perceptron.py:291: RuntimeWarning: invalid value encountered in double_scalars\n",
      "  loss += (0.5 * self.alpha) * values / n_samples\n",
      "/Users/blancacanocamarero/miniforge3/envs/tensorflow/lib/python3.9/site-packages/sklearn/utils/extmath.py:153: RuntimeWarning: overflow encountered in matmul\n",
      "  ret = a @ b\n",
      "/Users/blancacanocamarero/miniforge3/envs/tensorflow/lib/python3.9/site-packages/sklearn/neural_network/_base.py:129: RuntimeWarning: invalid value encountered in multiply\n",
      "  delta *= 1 - Z ** 2\n",
      "/Users/blancacanocamarero/miniforge3/envs/tensorflow/lib/python3.9/site-packages/sklearn/neural_network/_multilayer_perceptron.py:692: ConvergenceWarning: Stochastic Optimizer: Maximum iterations (21) reached and the optimization hasn't converged yet.\n",
      "  warnings.warn(\n"
     ]
    },
    {
     "name": "stdout",
     "output_type": "stream",
     "text": [
      "Batch  16  Number of iterations 21 ECM: nan\n"
     ]
    },
    {
     "name": "stderr",
     "output_type": "stream",
     "text": [
      "/Users/blancacanocamarero/miniforge3/envs/tensorflow/lib/python3.9/site-packages/sklearn/neural_network/_multilayer_perceptron.py:291: RuntimeWarning: invalid value encountered in double_scalars\n",
      "  loss += (0.5 * self.alpha) * values / n_samples\n",
      "/Users/blancacanocamarero/miniforge3/envs/tensorflow/lib/python3.9/site-packages/numpy/core/_methods.py:160: RuntimeWarning: overflow encountered in reduce\n",
      "  ret = umr_sum(arr, axis, dtype, out, keepdims)\n",
      "/Users/blancacanocamarero/miniforge3/envs/tensorflow/lib/python3.9/site-packages/sklearn/neural_network/_base.py:174: RuntimeWarning: overflow encountered in square\n",
      "  return ((y_true - y_pred) ** 2).mean() / 2\n",
      "/Users/blancacanocamarero/miniforge3/envs/tensorflow/lib/python3.9/site-packages/sklearn/utils/extmath.py:153: RuntimeWarning: overflow encountered in matmul\n",
      "  ret = a @ b\n",
      "/Users/blancacanocamarero/miniforge3/envs/tensorflow/lib/python3.9/site-packages/sklearn/neural_network/_base.py:129: RuntimeWarning: invalid value encountered in multiply\n",
      "  delta *= 1 - Z ** 2\n",
      "/Users/blancacanocamarero/miniforge3/envs/tensorflow/lib/python3.9/site-packages/sklearn/neural_network/_multilayer_perceptron.py:692: ConvergenceWarning: Stochastic Optimizer: Maximum iterations (31) reached and the optimization hasn't converged yet.\n",
      "  warnings.warn(\n"
     ]
    },
    {
     "name": "stdout",
     "output_type": "stream",
     "text": [
      "Batch  16  Number of iterations 31 ECM: nan\n"
     ]
    },
    {
     "name": "stderr",
     "output_type": "stream",
     "text": [
      "/Users/blancacanocamarero/miniforge3/envs/tensorflow/lib/python3.9/site-packages/numpy/core/_methods.py:160: RuntimeWarning: overflow encountered in reduce\n",
      "  ret = umr_sum(arr, axis, dtype, out, keepdims)\n",
      "/Users/blancacanocamarero/miniforge3/envs/tensorflow/lib/python3.9/site-packages/sklearn/neural_network/_base.py:174: RuntimeWarning: overflow encountered in square\n",
      "  return ((y_true - y_pred) ** 2).mean() / 2\n",
      "/Users/blancacanocamarero/miniforge3/envs/tensorflow/lib/python3.9/site-packages/sklearn/neural_network/_multilayer_perceptron.py:291: RuntimeWarning: invalid value encountered in double_scalars\n",
      "  loss += (0.5 * self.alpha) * values / n_samples\n",
      "/Users/blancacanocamarero/miniforge3/envs/tensorflow/lib/python3.9/site-packages/sklearn/utils/extmath.py:153: RuntimeWarning: overflow encountered in matmul\n",
      "  ret = a @ b\n",
      "/Users/blancacanocamarero/miniforge3/envs/tensorflow/lib/python3.9/site-packages/sklearn/neural_network/_base.py:129: RuntimeWarning: invalid value encountered in multiply\n",
      "  delta *= 1 - Z ** 2\n",
      "/Users/blancacanocamarero/miniforge3/envs/tensorflow/lib/python3.9/site-packages/sklearn/neural_network/_multilayer_perceptron.py:692: ConvergenceWarning: Stochastic Optimizer: Maximum iterations (41) reached and the optimization hasn't converged yet.\n",
      "  warnings.warn(\n",
      "/Users/blancacanocamarero/miniforge3/envs/tensorflow/lib/python3.9/site-packages/sklearn/neural_network/_multilayer_perceptron.py:692: ConvergenceWarning: Stochastic Optimizer: Maximum iterations (1) reached and the optimization hasn't converged yet.\n",
      "  warnings.warn(\n"
     ]
    },
    {
     "name": "stdout",
     "output_type": "stream",
     "text": [
      "Batch  16  Number of iterations 41 ECM: nan\n",
      "Batch  32  Number of iterations 1 ECM: 706089989827270934647655104512.000\n"
     ]
    },
    {
     "name": "stderr",
     "output_type": "stream",
     "text": [
      "/Users/blancacanocamarero/miniforge3/envs/tensorflow/lib/python3.9/site-packages/numpy/core/_methods.py:160: RuntimeWarning: overflow encountered in reduce\n",
      "  ret = umr_sum(arr, axis, dtype, out, keepdims)\n",
      "/Users/blancacanocamarero/miniforge3/envs/tensorflow/lib/python3.9/site-packages/sklearn/neural_network/_base.py:174: RuntimeWarning: overflow encountered in square\n",
      "  return ((y_true - y_pred) ** 2).mean() / 2\n",
      "/Users/blancacanocamarero/miniforge3/envs/tensorflow/lib/python3.9/site-packages/sklearn/neural_network/_multilayer_perceptron.py:291: RuntimeWarning: invalid value encountered in double_scalars\n",
      "  loss += (0.5 * self.alpha) * values / n_samples\n",
      "/Users/blancacanocamarero/miniforge3/envs/tensorflow/lib/python3.9/site-packages/sklearn/utils/extmath.py:153: RuntimeWarning: overflow encountered in matmul\n",
      "  ret = a @ b\n",
      "/Users/blancacanocamarero/miniforge3/envs/tensorflow/lib/python3.9/site-packages/sklearn/neural_network/_base.py:129: RuntimeWarning: invalid value encountered in multiply\n",
      "  delta *= 1 - Z ** 2\n",
      "/Users/blancacanocamarero/miniforge3/envs/tensorflow/lib/python3.9/site-packages/sklearn/neural_network/_multilayer_perceptron.py:692: ConvergenceWarning: Stochastic Optimizer: Maximum iterations (11) reached and the optimization hasn't converged yet.\n",
      "  warnings.warn(\n"
     ]
    },
    {
     "name": "stdout",
     "output_type": "stream",
     "text": [
      "Batch  32  Number of iterations 11 ECM: nan\n"
     ]
    },
    {
     "name": "stderr",
     "output_type": "stream",
     "text": [
      "/Users/blancacanocamarero/miniforge3/envs/tensorflow/lib/python3.9/site-packages/numpy/core/_methods.py:160: RuntimeWarning: overflow encountered in reduce\n",
      "  ret = umr_sum(arr, axis, dtype, out, keepdims)\n",
      "/Users/blancacanocamarero/miniforge3/envs/tensorflow/lib/python3.9/site-packages/sklearn/neural_network/_base.py:174: RuntimeWarning: overflow encountered in square\n",
      "  return ((y_true - y_pred) ** 2).mean() / 2\n",
      "/Users/blancacanocamarero/miniforge3/envs/tensorflow/lib/python3.9/site-packages/sklearn/neural_network/_multilayer_perceptron.py:291: RuntimeWarning: invalid value encountered in double_scalars\n",
      "  loss += (0.5 * self.alpha) * values / n_samples\n",
      "/Users/blancacanocamarero/miniforge3/envs/tensorflow/lib/python3.9/site-packages/sklearn/utils/extmath.py:153: RuntimeWarning: overflow encountered in matmul\n",
      "  ret = a @ b\n",
      "/Users/blancacanocamarero/miniforge3/envs/tensorflow/lib/python3.9/site-packages/sklearn/neural_network/_base.py:129: RuntimeWarning: invalid value encountered in multiply\n",
      "  delta *= 1 - Z ** 2\n",
      "/Users/blancacanocamarero/miniforge3/envs/tensorflow/lib/python3.9/site-packages/sklearn/neural_network/_multilayer_perceptron.py:692: ConvergenceWarning: Stochastic Optimizer: Maximum iterations (21) reached and the optimization hasn't converged yet.\n",
      "  warnings.warn(\n"
     ]
    },
    {
     "name": "stdout",
     "output_type": "stream",
     "text": [
      "Batch  32  Number of iterations 21 ECM: nan\n"
     ]
    },
    {
     "name": "stderr",
     "output_type": "stream",
     "text": [
      "/Users/blancacanocamarero/miniforge3/envs/tensorflow/lib/python3.9/site-packages/numpy/core/_methods.py:160: RuntimeWarning: overflow encountered in reduce\n",
      "  ret = umr_sum(arr, axis, dtype, out, keepdims)\n",
      "/Users/blancacanocamarero/miniforge3/envs/tensorflow/lib/python3.9/site-packages/sklearn/neural_network/_base.py:174: RuntimeWarning: overflow encountered in square\n",
      "  return ((y_true - y_pred) ** 2).mean() / 2\n",
      "/Users/blancacanocamarero/miniforge3/envs/tensorflow/lib/python3.9/site-packages/sklearn/neural_network/_multilayer_perceptron.py:291: RuntimeWarning: invalid value encountered in double_scalars\n",
      "  loss += (0.5 * self.alpha) * values / n_samples\n",
      "/Users/blancacanocamarero/miniforge3/envs/tensorflow/lib/python3.9/site-packages/sklearn/utils/extmath.py:153: RuntimeWarning: overflow encountered in matmul\n",
      "  ret = a @ b\n",
      "/Users/blancacanocamarero/miniforge3/envs/tensorflow/lib/python3.9/site-packages/sklearn/neural_network/_base.py:129: RuntimeWarning: invalid value encountered in multiply\n",
      "  delta *= 1 - Z ** 2\n",
      "/Users/blancacanocamarero/miniforge3/envs/tensorflow/lib/python3.9/site-packages/sklearn/neural_network/_multilayer_perceptron.py:692: ConvergenceWarning: Stochastic Optimizer: Maximum iterations (31) reached and the optimization hasn't converged yet.\n",
      "  warnings.warn(\n"
     ]
    },
    {
     "name": "stdout",
     "output_type": "stream",
     "text": [
      "Batch  32  Number of iterations 31 ECM: nan\n"
     ]
    },
    {
     "name": "stderr",
     "output_type": "stream",
     "text": [
      "/Users/blancacanocamarero/miniforge3/envs/tensorflow/lib/python3.9/site-packages/numpy/core/_methods.py:160: RuntimeWarning: overflow encountered in reduce\n",
      "  ret = umr_sum(arr, axis, dtype, out, keepdims)\n",
      "/Users/blancacanocamarero/miniforge3/envs/tensorflow/lib/python3.9/site-packages/sklearn/neural_network/_base.py:174: RuntimeWarning: overflow encountered in square\n",
      "  return ((y_true - y_pred) ** 2).mean() / 2\n",
      "/Users/blancacanocamarero/miniforge3/envs/tensorflow/lib/python3.9/site-packages/sklearn/neural_network/_multilayer_perceptron.py:291: RuntimeWarning: invalid value encountered in double_scalars\n",
      "  loss += (0.5 * self.alpha) * values / n_samples\n",
      "/Users/blancacanocamarero/miniforge3/envs/tensorflow/lib/python3.9/site-packages/sklearn/utils/extmath.py:153: RuntimeWarning: overflow encountered in matmul\n",
      "  ret = a @ b\n",
      "/Users/blancacanocamarero/miniforge3/envs/tensorflow/lib/python3.9/site-packages/sklearn/neural_network/_base.py:129: RuntimeWarning: invalid value encountered in multiply\n",
      "  delta *= 1 - Z ** 2\n",
      "/Users/blancacanocamarero/miniforge3/envs/tensorflow/lib/python3.9/site-packages/sklearn/neural_network/_multilayer_perceptron.py:692: ConvergenceWarning: Stochastic Optimizer: Maximum iterations (41) reached and the optimization hasn't converged yet.\n",
      "  warnings.warn(\n",
      "/Users/blancacanocamarero/miniforge3/envs/tensorflow/lib/python3.9/site-packages/sklearn/neural_network/_multilayer_perceptron.py:692: ConvergenceWarning: Stochastic Optimizer: Maximum iterations (1) reached and the optimization hasn't converged yet.\n",
      "  warnings.warn(\n"
     ]
    },
    {
     "name": "stdout",
     "output_type": "stream",
     "text": [
      "Batch  32  Number of iterations 41 ECM: nan\n",
      "Batch  64  Number of iterations 1 ECM: 3849719477431769600.000\n"
     ]
    },
    {
     "name": "stderr",
     "output_type": "stream",
     "text": [
      "/Users/blancacanocamarero/miniforge3/envs/tensorflow/lib/python3.9/site-packages/sklearn/neural_network/_multilayer_perceptron.py:692: ConvergenceWarning: Stochastic Optimizer: Maximum iterations (11) reached and the optimization hasn't converged yet.\n",
      "  warnings.warn(\n"
     ]
    },
    {
     "name": "stdout",
     "output_type": "stream",
     "text": [
      "Batch  64  Number of iterations 11 ECM: 211993690527802502898219571442827732766090930314514879104972625460209583811399817886305909730229915755778245829320047039572796929787035648.000\n",
      "Batch  64  Number of iterations 12 ECM: 235163406305511948065265286201282280981532804335746913776596672266879334591798055540781687271697594164986354003062045757949083984464174091364319887360.000\n",
      "Batch  64  Number of iterations 12 ECM: 140605700437782187821324061855287848621526479322481936331483632035975177092711546092048757190668945677288417826590513338135295095576793485880921686016.000\n",
      "Batch  64  Number of iterations 12 ECM: 333444593775501278267279886025233033892422681349786221769849838898008729369384230949035853707472107370004696441147313394613530554584382981576715141120.000\n",
      "Batch  200  Number of iterations 1 ECM: 37662404948.127\n"
     ]
    },
    {
     "name": "stderr",
     "output_type": "stream",
     "text": [
      "/Users/blancacanocamarero/miniforge3/envs/tensorflow/lib/python3.9/site-packages/sklearn/neural_network/_multilayer_perceptron.py:692: ConvergenceWarning: Stochastic Optimizer: Maximum iterations (1) reached and the optimization hasn't converged yet.\n",
      "  warnings.warn(\n",
      "/Users/blancacanocamarero/miniforge3/envs/tensorflow/lib/python3.9/site-packages/sklearn/neural_network/_multilayer_perceptron.py:692: ConvergenceWarning: Stochastic Optimizer: Maximum iterations (11) reached and the optimization hasn't converged yet.\n",
      "  warnings.warn(\n"
     ]
    },
    {
     "name": "stdout",
     "output_type": "stream",
     "text": [
      "Batch  200  Number of iterations 11 ECM: 100915264455726096484700222000256420567851724701696.000\n",
      "Batch  200  Number of iterations 12 ECM: 965740307620927492421742826554734254193924169191653376.000\n",
      "Batch  200  Number of iterations 12 ECM: 1142893601626559641435182004408848217830561746132140032.000\n",
      "Batch  200  Number of iterations 12 ECM: 1540682092238289670895753519853187836074624024659886080.000\n",
      "SE initialization algorithm 447028470.969\n",
      "Batch  1  Number of iterations 1 ECM: 20496433.868\n"
     ]
    },
    {
     "name": "stderr",
     "output_type": "stream",
     "text": [
      "/Users/blancacanocamarero/miniforge3/envs/tensorflow/lib/python3.9/site-packages/sklearn/neural_network/_multilayer_perceptron.py:692: ConvergenceWarning: Stochastic Optimizer: Maximum iterations (1) reached and the optimization hasn't converged yet.\n",
      "  warnings.warn(\n",
      "/Users/blancacanocamarero/miniforge3/envs/tensorflow/lib/python3.9/site-packages/sklearn/neural_network/_multilayer_perceptron.py:692: ConvergenceWarning: Stochastic Optimizer: Maximum iterations (11) reached and the optimization hasn't converged yet.\n",
      "  warnings.warn(\n"
     ]
    },
    {
     "name": "stdout",
     "output_type": "stream",
     "text": [
      "Batch  1  Number of iterations 11 ECM: 23968367.064\n"
     ]
    },
    {
     "name": "stderr",
     "output_type": "stream",
     "text": [
      "/Users/blancacanocamarero/miniforge3/envs/tensorflow/lib/python3.9/site-packages/sklearn/neural_network/_multilayer_perceptron.py:692: ConvergenceWarning: Stochastic Optimizer: Maximum iterations (21) reached and the optimization hasn't converged yet.\n",
      "  warnings.warn(\n"
     ]
    },
    {
     "name": "stdout",
     "output_type": "stream",
     "text": [
      "Batch  1  Number of iterations 21 ECM: 35550680.173\n",
      "Batch  1  Number of iterations 22 ECM: 21854234.032\n",
      "Batch  1  Number of iterations 30 ECM: 40981903.877\n",
      "Batch  16  Number of iterations 1 ECM: 20891029.500\n",
      "Batch  16  Number of iterations 11 ECM: 21211517.404\n"
     ]
    },
    {
     "name": "stderr",
     "output_type": "stream",
     "text": [
      "/Users/blancacanocamarero/miniforge3/envs/tensorflow/lib/python3.9/site-packages/sklearn/neural_network/_multilayer_perceptron.py:692: ConvergenceWarning: Stochastic Optimizer: Maximum iterations (1) reached and the optimization hasn't converged yet.\n",
      "  warnings.warn(\n",
      "/Users/blancacanocamarero/miniforge3/envs/tensorflow/lib/python3.9/site-packages/sklearn/neural_network/_multilayer_perceptron.py:692: ConvergenceWarning: Stochastic Optimizer: Maximum iterations (11) reached and the optimization hasn't converged yet.\n",
      "  warnings.warn(\n"
     ]
    },
    {
     "name": "stdout",
     "output_type": "stream",
     "text": [
      "Batch  16  Number of iterations 15 ECM: 21070418.653\n",
      "Batch  16  Number of iterations 26 ECM: 21549454.103\n",
      "Batch  16  Number of iterations 19 ECM: 21285908.410\n",
      "Batch  32  Number of iterations 1 ECM: 22003683.723\n",
      "Batch  32  Number of iterations 11 ECM: 21616340.710\n"
     ]
    },
    {
     "name": "stderr",
     "output_type": "stream",
     "text": [
      "/Users/blancacanocamarero/miniforge3/envs/tensorflow/lib/python3.9/site-packages/sklearn/neural_network/_multilayer_perceptron.py:692: ConvergenceWarning: Stochastic Optimizer: Maximum iterations (1) reached and the optimization hasn't converged yet.\n",
      "  warnings.warn(\n",
      "/Users/blancacanocamarero/miniforge3/envs/tensorflow/lib/python3.9/site-packages/sklearn/neural_network/_multilayer_perceptron.py:692: ConvergenceWarning: Stochastic Optimizer: Maximum iterations (11) reached and the optimization hasn't converged yet.\n",
      "  warnings.warn(\n"
     ]
    },
    {
     "name": "stdout",
     "output_type": "stream",
     "text": [
      "Batch  32  Number of iterations 15 ECM: 21349839.645\n",
      "Batch  32  Number of iterations 21 ECM: 20580074.314\n",
      "Batch  32  Number of iterations 27 ECM: 20533428.032\n",
      "Batch  64  Number of iterations 1 ECM: 21870670.606\n",
      "Batch  64  Number of iterations 11 ECM: 21858163.045\n"
     ]
    },
    {
     "name": "stderr",
     "output_type": "stream",
     "text": [
      "/Users/blancacanocamarero/miniforge3/envs/tensorflow/lib/python3.9/site-packages/sklearn/neural_network/_multilayer_perceptron.py:692: ConvergenceWarning: Stochastic Optimizer: Maximum iterations (1) reached and the optimization hasn't converged yet.\n",
      "  warnings.warn(\n",
      "/Users/blancacanocamarero/miniforge3/envs/tensorflow/lib/python3.9/site-packages/sklearn/neural_network/_multilayer_perceptron.py:692: ConvergenceWarning: Stochastic Optimizer: Maximum iterations (11) reached and the optimization hasn't converged yet.\n",
      "  warnings.warn(\n"
     ]
    },
    {
     "name": "stdout",
     "output_type": "stream",
     "text": [
      "Batch  64  Number of iterations 18 ECM: 21330351.473\n",
      "Batch  64  Number of iterations 13 ECM: 21278746.991\n",
      "Batch  64  Number of iterations 31 ECM: 21703354.155\n",
      "Batch  200  Number of iterations 1 ECM: 21079372.285\n",
      "Batch  200  Number of iterations 11 ECM: 20627511.479\n"
     ]
    },
    {
     "name": "stderr",
     "output_type": "stream",
     "text": [
      "/Users/blancacanocamarero/miniforge3/envs/tensorflow/lib/python3.9/site-packages/sklearn/neural_network/_multilayer_perceptron.py:692: ConvergenceWarning: Stochastic Optimizer: Maximum iterations (1) reached and the optimization hasn't converged yet.\n",
      "  warnings.warn(\n",
      "/Users/blancacanocamarero/miniforge3/envs/tensorflow/lib/python3.9/site-packages/sklearn/neural_network/_multilayer_perceptron.py:692: ConvergenceWarning: Stochastic Optimizer: Maximum iterations (11) reached and the optimization hasn't converged yet.\n",
      "  warnings.warn(\n",
      "/Users/blancacanocamarero/miniforge3/envs/tensorflow/lib/python3.9/site-packages/sklearn/neural_network/_multilayer_perceptron.py:692: ConvergenceWarning: Stochastic Optimizer: Maximum iterations (21) reached and the optimization hasn't converged yet.\n",
      "  warnings.warn(\n"
     ]
    },
    {
     "name": "stdout",
     "output_type": "stream",
     "text": [
      "Batch  200  Number of iterations 21 ECM: 21414595.991\n",
      "Batch  200  Number of iterations 25 ECM: 21519401.490\n",
      "Batch  200  Number of iterations 32 ECM: 21304325.939\n",
      "SE initialization algorithm 1537390846.275\n"
     ]
    },
    {
     "name": "stderr",
     "output_type": "stream",
     "text": [
      "/Users/blancacanocamarero/miniforge3/envs/tensorflow/lib/python3.9/site-packages/sklearn/neural_network/_multilayer_perceptron.py:692: ConvergenceWarning: Stochastic Optimizer: Maximum iterations (1) reached and the optimization hasn't converged yet.\n",
      "  warnings.warn(\n"
     ]
    },
    {
     "name": "stdout",
     "output_type": "stream",
     "text": [
      "Batch  1  Number of iterations 1 ECM: 21567836.454\n"
     ]
    },
    {
     "name": "stderr",
     "output_type": "stream",
     "text": [
      "/Users/blancacanocamarero/miniforge3/envs/tensorflow/lib/python3.9/site-packages/sklearn/neural_network/_multilayer_perceptron.py:692: ConvergenceWarning: Stochastic Optimizer: Maximum iterations (11) reached and the optimization hasn't converged yet.\n",
      "  warnings.warn(\n"
     ]
    },
    {
     "name": "stdout",
     "output_type": "stream",
     "text": [
      "Batch  1  Number of iterations 11 ECM: 24582812.927\n",
      "Batch  1  Number of iterations 14 ECM: 29217008.632\n"
     ]
    },
    {
     "name": "stderr",
     "output_type": "stream",
     "text": [
      "/Users/blancacanocamarero/miniforge3/envs/tensorflow/lib/python3.9/site-packages/sklearn/neural_network/_multilayer_perceptron.py:692: ConvergenceWarning: Stochastic Optimizer: Maximum iterations (31) reached and the optimization hasn't converged yet.\n",
      "  warnings.warn(\n"
     ]
    },
    {
     "name": "stdout",
     "output_type": "stream",
     "text": [
      "Batch  1  Number of iterations 31 ECM: 26107225.091\n",
      "Batch  1  Number of iterations 26 ECM: 31727296.358\n",
      "Batch  16  Number of iterations 1 ECM: 21809781.697\n"
     ]
    },
    {
     "name": "stderr",
     "output_type": "stream",
     "text": [
      "/Users/blancacanocamarero/miniforge3/envs/tensorflow/lib/python3.9/site-packages/sklearn/neural_network/_multilayer_perceptron.py:692: ConvergenceWarning: Stochastic Optimizer: Maximum iterations (1) reached and the optimization hasn't converged yet.\n",
      "  warnings.warn(\n",
      "/Users/blancacanocamarero/miniforge3/envs/tensorflow/lib/python3.9/site-packages/sklearn/neural_network/_multilayer_perceptron.py:692: ConvergenceWarning: Stochastic Optimizer: Maximum iterations (11) reached and the optimization hasn't converged yet.\n",
      "  warnings.warn(\n"
     ]
    },
    {
     "name": "stdout",
     "output_type": "stream",
     "text": [
      "Batch  16  Number of iterations 11 ECM: 22237613.775\n"
     ]
    },
    {
     "name": "stderr",
     "output_type": "stream",
     "text": [
      "/Users/blancacanocamarero/miniforge3/envs/tensorflow/lib/python3.9/site-packages/sklearn/neural_network/_multilayer_perceptron.py:692: ConvergenceWarning: Stochastic Optimizer: Maximum iterations (21) reached and the optimization hasn't converged yet.\n",
      "  warnings.warn(\n"
     ]
    },
    {
     "name": "stdout",
     "output_type": "stream",
     "text": [
      "Batch  16  Number of iterations 21 ECM: 25993196.756\n"
     ]
    },
    {
     "name": "stderr",
     "output_type": "stream",
     "text": [
      "/Users/blancacanocamarero/miniforge3/envs/tensorflow/lib/python3.9/site-packages/sklearn/neural_network/_multilayer_perceptron.py:692: ConvergenceWarning: Stochastic Optimizer: Maximum iterations (31) reached and the optimization hasn't converged yet.\n",
      "  warnings.warn(\n"
     ]
    },
    {
     "name": "stdout",
     "output_type": "stream",
     "text": [
      "Batch  16  Number of iterations 31 ECM: 24059020.027\n",
      "Batch  16  Number of iterations 15 ECM: 25993243.319\n",
      "Batch  32  Number of iterations 1 ECM: 32105330.269\n"
     ]
    },
    {
     "name": "stderr",
     "output_type": "stream",
     "text": [
      "/Users/blancacanocamarero/miniforge3/envs/tensorflow/lib/python3.9/site-packages/sklearn/neural_network/_multilayer_perceptron.py:692: ConvergenceWarning: Stochastic Optimizer: Maximum iterations (1) reached and the optimization hasn't converged yet.\n",
      "  warnings.warn(\n",
      "/Users/blancacanocamarero/miniforge3/envs/tensorflow/lib/python3.9/site-packages/sklearn/neural_network/_multilayer_perceptron.py:692: ConvergenceWarning: Stochastic Optimizer: Maximum iterations (11) reached and the optimization hasn't converged yet.\n",
      "  warnings.warn(\n"
     ]
    },
    {
     "name": "stdout",
     "output_type": "stream",
     "text": [
      "Batch  32  Number of iterations 11 ECM: 31193043.199\n",
      "Batch  32  Number of iterations 14 ECM: 29331738.320\n",
      "Batch  32  Number of iterations 16 ECM: 23951010.392\n",
      "Batch  32  Number of iterations 24 ECM: 25791314.802\n",
      "Batch  64  Number of iterations 1 ECM: 30410715.650\n"
     ]
    },
    {
     "name": "stderr",
     "output_type": "stream",
     "text": [
      "/Users/blancacanocamarero/miniforge3/envs/tensorflow/lib/python3.9/site-packages/sklearn/neural_network/_multilayer_perceptron.py:692: ConvergenceWarning: Stochastic Optimizer: Maximum iterations (1) reached and the optimization hasn't converged yet.\n",
      "  warnings.warn(\n",
      "/Users/blancacanocamarero/miniforge3/envs/tensorflow/lib/python3.9/site-packages/sklearn/neural_network/_multilayer_perceptron.py:692: ConvergenceWarning: Stochastic Optimizer: Maximum iterations (11) reached and the optimization hasn't converged yet.\n",
      "  warnings.warn(\n"
     ]
    },
    {
     "name": "stdout",
     "output_type": "stream",
     "text": [
      "Batch  64  Number of iterations 11 ECM: 27706053.854\n",
      "Batch  64  Number of iterations 21 ECM: 29339021.413\n"
     ]
    },
    {
     "name": "stderr",
     "output_type": "stream",
     "text": [
      "/Users/blancacanocamarero/miniforge3/envs/tensorflow/lib/python3.9/site-packages/sklearn/neural_network/_multilayer_perceptron.py:692: ConvergenceWarning: Stochastic Optimizer: Maximum iterations (31) reached and the optimization hasn't converged yet.\n",
      "  warnings.warn(\n"
     ]
    },
    {
     "name": "stdout",
     "output_type": "stream",
     "text": [
      "Batch  64  Number of iterations 31 ECM: 36152584.846\n",
      "Batch  64  Number of iterations 23 ECM: 29681269.315\n",
      "Batch  200  Number of iterations 1 ECM: 27032953.392\n"
     ]
    },
    {
     "name": "stderr",
     "output_type": "stream",
     "text": [
      "/Users/blancacanocamarero/miniforge3/envs/tensorflow/lib/python3.9/site-packages/sklearn/neural_network/_multilayer_perceptron.py:692: ConvergenceWarning: Stochastic Optimizer: Maximum iterations (1) reached and the optimization hasn't converged yet.\n",
      "  warnings.warn(\n",
      "/Users/blancacanocamarero/miniforge3/envs/tensorflow/lib/python3.9/site-packages/sklearn/neural_network/_multilayer_perceptron.py:692: ConvergenceWarning: Stochastic Optimizer: Maximum iterations (11) reached and the optimization hasn't converged yet.\n",
      "  warnings.warn(\n"
     ]
    },
    {
     "name": "stdout",
     "output_type": "stream",
     "text": [
      "Batch  200  Number of iterations 11 ECM: 33940642.869\n",
      "Batch  200  Number of iterations 17 ECM: 31193019.417\n"
     ]
    },
    {
     "name": "stderr",
     "output_type": "stream",
     "text": [
      "/Users/blancacanocamarero/miniforge3/envs/tensorflow/lib/python3.9/site-packages/sklearn/neural_network/_multilayer_perceptron.py:692: ConvergenceWarning: Stochastic Optimizer: Maximum iterations (31) reached and the optimization hasn't converged yet.\n",
      "  warnings.warn(\n"
     ]
    },
    {
     "name": "stdout",
     "output_type": "stream",
     "text": [
      "Batch  200  Number of iterations 31 ECM: 34922737.260\n",
      "Batch  200  Number of iterations 13 ECM: 28628309.043\n"
     ]
    },
    {
     "name": "stderr",
     "output_type": "stream",
     "text": [
      "/Users/blancacanocamarero/repositorios/optimized_neural_network/src/learnt_initialization.py:65: RuntimeWarning: divide by zero encountered in double_scalars\n",
      "  aux = 2*M /(px_s - px_a)\n",
      "/Users/blancacanocamarero/repositorios/optimized_neural_network/src/one_layer_neural_network.py:31: RuntimeWarning: invalid value encountered in matmul\n",
      "  s = self.A @ X_bias.T\n"
     ]
    },
    {
     "ename": "LinAlgError",
     "evalue": "SVD did not converge",
     "output_type": "error",
     "traceback": [
      "\u001b[0;31m---------------------------------------------------------------------------\u001b[0m",
      "\u001b[0;31mLinAlgError\u001b[0m                               Traceback (most recent call last)",
      "\u001b[0;32m/var/folders/6x/92l244517zjbjbndy62lk_9m0000gn/T/ipykernel_23520/5839752.py\u001b[0m in \u001b[0;36m<module>\u001b[0;34m\u001b[0m\n\u001b[1;32m     10\u001b[0m         \u001b[0mh\u001b[0m \u001b[0;34m=\u001b[0m \u001b[0mlearnt_initialization\u001b[0m\u001b[0;34m(\u001b[0m\u001b[0mX\u001b[0m\u001b[0;34m,\u001b[0m \u001b[0mnp\u001b[0m\u001b[0;34m.\u001b[0m\u001b[0marray\u001b[0m\u001b[0;34m(\u001b[0m\u001b[0;34m[\u001b[0m\u001b[0my\u001b[0m\u001b[0;34m]\u001b[0m\u001b[0;34m)\u001b[0m\u001b[0;34m.\u001b[0m\u001b[0mT\u001b[0m\u001b[0;34m,\u001b[0m \u001b[0mneurons\u001b[0m\u001b[0;34m,\u001b[0m \u001b[0mactivation_function\u001b[0m\u001b[0;34m)\u001b[0m\u001b[0;34m\u001b[0m\u001b[0;34m\u001b[0m\u001b[0m\n\u001b[1;32m     11\u001b[0m \u001b[0;34m\u001b[0m\u001b[0m\n\u001b[0;32m---> 12\u001b[0;31m         \u001b[0merror\u001b[0m \u001b[0;34m=\u001b[0m \u001b[0mnp\u001b[0m\u001b[0;34m.\u001b[0m\u001b[0mlinalg\u001b[0m\u001b[0;34m.\u001b[0m\u001b[0mnorm\u001b[0m\u001b[0;34m(\u001b[0m\u001b[0mh\u001b[0m\u001b[0;34m.\u001b[0m\u001b[0mpredict\u001b[0m\u001b[0;34m(\u001b[0m\u001b[0mX_test_inside_scaled\u001b[0m\u001b[0;34m)\u001b[0m \u001b[0;34m-\u001b[0m \u001b[0my_test_inside\u001b[0m\u001b[0;34m,\u001b[0m \u001b[0;36m2\u001b[0m\u001b[0;34m)\u001b[0m\u001b[0;34m\u001b[0m\u001b[0;34m\u001b[0m\u001b[0m\n\u001b[0m\u001b[1;32m     13\u001b[0m         \u001b[0mprint\u001b[0m\u001b[0;34m(\u001b[0m\u001b[0;34mf'SE initialization algorithm {error:.3f}'\u001b[0m\u001b[0;34m)\u001b[0m\u001b[0;34m\u001b[0m\u001b[0;34m\u001b[0m\u001b[0m\n\u001b[1;32m     14\u001b[0m         \u001b[0mf\u001b[0m\u001b[0;34m.\u001b[0m\u001b[0mwrite\u001b[0m\u001b[0;34m(\u001b[0m\u001b[0;34mf'{i}, {neurons}, 1, 0, 0, {error:.3f}\\n'\u001b[0m\u001b[0;34m)\u001b[0m\u001b[0;34m\u001b[0m\u001b[0;34m\u001b[0m\u001b[0m\n",
      "\u001b[0;32m<__array_function__ internals>\u001b[0m in \u001b[0;36mnorm\u001b[0;34m(*args, **kwargs)\u001b[0m\n",
      "\u001b[0;32m~/miniforge3/envs/tensorflow/lib/python3.9/site-packages/numpy/linalg/linalg.py\u001b[0m in \u001b[0;36mnorm\u001b[0;34m(x, ord, axis, keepdims)\u001b[0m\n\u001b[1;32m   2577\u001b[0m             \u001b[0;32mraise\u001b[0m \u001b[0mValueError\u001b[0m\u001b[0;34m(\u001b[0m\u001b[0;34m'Duplicate axes given.'\u001b[0m\u001b[0;34m)\u001b[0m\u001b[0;34m\u001b[0m\u001b[0;34m\u001b[0m\u001b[0m\n\u001b[1;32m   2578\u001b[0m         \u001b[0;32mif\u001b[0m \u001b[0mord\u001b[0m \u001b[0;34m==\u001b[0m \u001b[0;36m2\u001b[0m\u001b[0;34m:\u001b[0m\u001b[0;34m\u001b[0m\u001b[0;34m\u001b[0m\u001b[0m\n\u001b[0;32m-> 2579\u001b[0;31m             \u001b[0mret\u001b[0m \u001b[0;34m=\u001b[0m  \u001b[0m_multi_svd_norm\u001b[0m\u001b[0;34m(\u001b[0m\u001b[0mx\u001b[0m\u001b[0;34m,\u001b[0m \u001b[0mrow_axis\u001b[0m\u001b[0;34m,\u001b[0m \u001b[0mcol_axis\u001b[0m\u001b[0;34m,\u001b[0m \u001b[0mamax\u001b[0m\u001b[0;34m)\u001b[0m\u001b[0;34m\u001b[0m\u001b[0;34m\u001b[0m\u001b[0m\n\u001b[0m\u001b[1;32m   2580\u001b[0m         \u001b[0;32melif\u001b[0m \u001b[0mord\u001b[0m \u001b[0;34m==\u001b[0m \u001b[0;34m-\u001b[0m\u001b[0;36m2\u001b[0m\u001b[0;34m:\u001b[0m\u001b[0;34m\u001b[0m\u001b[0;34m\u001b[0m\u001b[0m\n\u001b[1;32m   2581\u001b[0m             \u001b[0mret\u001b[0m \u001b[0;34m=\u001b[0m \u001b[0m_multi_svd_norm\u001b[0m\u001b[0;34m(\u001b[0m\u001b[0mx\u001b[0m\u001b[0;34m,\u001b[0m \u001b[0mrow_axis\u001b[0m\u001b[0;34m,\u001b[0m \u001b[0mcol_axis\u001b[0m\u001b[0;34m,\u001b[0m \u001b[0mamin\u001b[0m\u001b[0;34m)\u001b[0m\u001b[0;34m\u001b[0m\u001b[0;34m\u001b[0m\u001b[0m\n",
      "\u001b[0;32m~/miniforge3/envs/tensorflow/lib/python3.9/site-packages/numpy/linalg/linalg.py\u001b[0m in \u001b[0;36m_multi_svd_norm\u001b[0;34m(x, row_axis, col_axis, op)\u001b[0m\n\u001b[1;32m   2353\u001b[0m     \"\"\"\n\u001b[1;32m   2354\u001b[0m     \u001b[0my\u001b[0m \u001b[0;34m=\u001b[0m \u001b[0mmoveaxis\u001b[0m\u001b[0;34m(\u001b[0m\u001b[0mx\u001b[0m\u001b[0;34m,\u001b[0m \u001b[0;34m(\u001b[0m\u001b[0mrow_axis\u001b[0m\u001b[0;34m,\u001b[0m \u001b[0mcol_axis\u001b[0m\u001b[0;34m)\u001b[0m\u001b[0;34m,\u001b[0m \u001b[0;34m(\u001b[0m\u001b[0;34m-\u001b[0m\u001b[0;36m2\u001b[0m\u001b[0;34m,\u001b[0m \u001b[0;34m-\u001b[0m\u001b[0;36m1\u001b[0m\u001b[0;34m)\u001b[0m\u001b[0;34m)\u001b[0m\u001b[0;34m\u001b[0m\u001b[0;34m\u001b[0m\u001b[0m\n\u001b[0;32m-> 2355\u001b[0;31m     \u001b[0mresult\u001b[0m \u001b[0;34m=\u001b[0m \u001b[0mop\u001b[0m\u001b[0;34m(\u001b[0m\u001b[0msvd\u001b[0m\u001b[0;34m(\u001b[0m\u001b[0my\u001b[0m\u001b[0;34m,\u001b[0m \u001b[0mcompute_uv\u001b[0m\u001b[0;34m=\u001b[0m\u001b[0;32mFalse\u001b[0m\u001b[0;34m)\u001b[0m\u001b[0;34m,\u001b[0m \u001b[0maxis\u001b[0m\u001b[0;34m=\u001b[0m\u001b[0;34m-\u001b[0m\u001b[0;36m1\u001b[0m\u001b[0;34m)\u001b[0m\u001b[0;34m\u001b[0m\u001b[0;34m\u001b[0m\u001b[0m\n\u001b[0m\u001b[1;32m   2356\u001b[0m     \u001b[0;32mreturn\u001b[0m \u001b[0mresult\u001b[0m\u001b[0;34m\u001b[0m\u001b[0;34m\u001b[0m\u001b[0m\n\u001b[1;32m   2357\u001b[0m \u001b[0;34m\u001b[0m\u001b[0m\n",
      "\u001b[0;32m<__array_function__ internals>\u001b[0m in \u001b[0;36msvd\u001b[0;34m(*args, **kwargs)\u001b[0m\n",
      "\u001b[0;32m~/miniforge3/envs/tensorflow/lib/python3.9/site-packages/numpy/linalg/linalg.py\u001b[0m in \u001b[0;36msvd\u001b[0;34m(a, full_matrices, compute_uv, hermitian)\u001b[0m\n\u001b[1;32m   1671\u001b[0m \u001b[0;34m\u001b[0m\u001b[0m\n\u001b[1;32m   1672\u001b[0m         \u001b[0msignature\u001b[0m \u001b[0;34m=\u001b[0m \u001b[0;34m'D->d'\u001b[0m \u001b[0;32mif\u001b[0m \u001b[0misComplexType\u001b[0m\u001b[0;34m(\u001b[0m\u001b[0mt\u001b[0m\u001b[0;34m)\u001b[0m \u001b[0;32melse\u001b[0m \u001b[0;34m'd->d'\u001b[0m\u001b[0;34m\u001b[0m\u001b[0;34m\u001b[0m\u001b[0m\n\u001b[0;32m-> 1673\u001b[0;31m         \u001b[0ms\u001b[0m \u001b[0;34m=\u001b[0m \u001b[0mgufunc\u001b[0m\u001b[0;34m(\u001b[0m\u001b[0ma\u001b[0m\u001b[0;34m,\u001b[0m \u001b[0msignature\u001b[0m\u001b[0;34m=\u001b[0m\u001b[0msignature\u001b[0m\u001b[0;34m,\u001b[0m \u001b[0mextobj\u001b[0m\u001b[0;34m=\u001b[0m\u001b[0mextobj\u001b[0m\u001b[0;34m)\u001b[0m\u001b[0;34m\u001b[0m\u001b[0;34m\u001b[0m\u001b[0m\n\u001b[0m\u001b[1;32m   1674\u001b[0m         \u001b[0ms\u001b[0m \u001b[0;34m=\u001b[0m \u001b[0ms\u001b[0m\u001b[0;34m.\u001b[0m\u001b[0mastype\u001b[0m\u001b[0;34m(\u001b[0m\u001b[0m_realType\u001b[0m\u001b[0;34m(\u001b[0m\u001b[0mresult_t\u001b[0m\u001b[0;34m)\u001b[0m\u001b[0;34m,\u001b[0m \u001b[0mcopy\u001b[0m\u001b[0;34m=\u001b[0m\u001b[0;32mFalse\u001b[0m\u001b[0;34m)\u001b[0m\u001b[0;34m\u001b[0m\u001b[0;34m\u001b[0m\u001b[0m\n\u001b[1;32m   1675\u001b[0m         \u001b[0;32mreturn\u001b[0m \u001b[0ms\u001b[0m\u001b[0;34m\u001b[0m\u001b[0;34m\u001b[0m\u001b[0m\n",
      "\u001b[0;32m~/miniforge3/envs/tensorflow/lib/python3.9/site-packages/numpy/linalg/linalg.py\u001b[0m in \u001b[0;36m_raise_linalgerror_svd_nonconvergence\u001b[0;34m(err, flag)\u001b[0m\n\u001b[1;32m     95\u001b[0m \u001b[0;34m\u001b[0m\u001b[0m\n\u001b[1;32m     96\u001b[0m \u001b[0;32mdef\u001b[0m \u001b[0m_raise_linalgerror_svd_nonconvergence\u001b[0m\u001b[0;34m(\u001b[0m\u001b[0merr\u001b[0m\u001b[0;34m,\u001b[0m \u001b[0mflag\u001b[0m\u001b[0;34m)\u001b[0m\u001b[0;34m:\u001b[0m\u001b[0;34m\u001b[0m\u001b[0;34m\u001b[0m\u001b[0m\n\u001b[0;32m---> 97\u001b[0;31m     \u001b[0;32mraise\u001b[0m \u001b[0mLinAlgError\u001b[0m\u001b[0;34m(\u001b[0m\u001b[0;34m\"SVD did not converge\"\u001b[0m\u001b[0;34m)\u001b[0m\u001b[0;34m\u001b[0m\u001b[0;34m\u001b[0m\u001b[0m\n\u001b[0m\u001b[1;32m     98\u001b[0m \u001b[0;34m\u001b[0m\u001b[0m\n\u001b[1;32m     99\u001b[0m \u001b[0;32mdef\u001b[0m \u001b[0m_raise_linalgerror_lstsq\u001b[0m\u001b[0;34m(\u001b[0m\u001b[0merr\u001b[0m\u001b[0;34m,\u001b[0m \u001b[0mflag\u001b[0m\u001b[0;34m)\u001b[0m\u001b[0;34m:\u001b[0m\u001b[0;34m\u001b[0m\u001b[0;34m\u001b[0m\u001b[0m\n",
      "\u001b[0;31mLinAlgError\u001b[0m: SVD did not converge"
     ]
    }
   ],
   "source": [
    "\n",
    "# Training the model \n",
    "from sklearn.neural_network import MLPRegressor\n",
    "from learnt_initialization import learnt_initialization\n",
    "activation_function = 'tanh'\n",
    "f = open(relative_path+'/Experiment/results_house_price.csv', \"w\")\n",
    "f.write('Experiment,  neurons, my algorithm, batch, maximum_iter, error')\n",
    "for i in range(7):\n",
    "    for neurons in [200,1000, 2000]:\n",
    "\n",
    "        h = learnt_initialization(X, np.array([y]).T, neurons, activation_function)\n",
    "        \n",
    "        error = np.linalg.norm(h.predict(X_test_inside_scaled) - y_test_inside, 2)\n",
    "        print(f'SE initialization algorithm {error:.3f}')\n",
    "        f.write(f'{i}, {neurons}, 1, 0, 0, {error:.3f}\\n')\n",
    "        for batch in [1,16,32,64, 200]:\n",
    "            for m_iter in range(1,50,10):\n",
    "                clf = MLPRegressor(solver='sgd',\n",
    "                                    hidden_layer_sizes = (neurons,),\n",
    "                                    batch_size = batch,\n",
    "                                    alpha=0,\n",
    "                                    activation= activation_function, \n",
    "                                    max_iter = m_iter\n",
    "                ).fit(X_train, y_train)\n",
    "                prediction_inner_test = clf.predict(X_test_inside_scaled)\n",
    "                error = np.linalg.norm(prediction_inner_test - y_test_inside, 2)\n",
    "                print(f'Experiment {i}, neurons: {neurons}, batch:{batch}, number of iteration {clf.n_iter_}, {error}'\n",
    "                    )\n",
    "                f.write(f'{i}, {neurons}, 0, {batch}, {clf.n_iter_}, {error}\\n')\n",
    "f.close()\n",
    "                \n",
    "# 859938795\n",
    "#  24479146"
   ]
  }
 ],
 "metadata": {
  "kernelspec": {
   "display_name": "tensorflow",
   "language": "python",
   "name": "python3"
  },
  "language_info": {
   "codemirror_mode": {
    "name": "ipython",
    "version": 3
   },
   "file_extension": ".py",
   "mimetype": "text/x-python",
   "name": "python",
   "nbconvert_exporter": "python",
   "pygments_lexer": "ipython3",
   "version": "3.9.7"
  },
  "orig_nbformat": 4,
  "vscode": {
   "interpreter": {
    "hash": "24dcaf82da949eb8a169ffe40fd331a23a642ab22de3e08713f616aa663d0868"
   }
  }
 },
 "nbformat": 4,
 "nbformat_minor": 2
}
