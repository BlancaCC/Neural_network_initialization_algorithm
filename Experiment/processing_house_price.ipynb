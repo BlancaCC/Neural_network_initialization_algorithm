{
 "cells": [
  {
   "cell_type": "code",
   "execution_count": 44,
   "metadata": {},
   "outputs": [],
   "source": [
    "# Import the os module\n",
    "import os\n",
    "\n",
    "# Get the current working directory\n",
    "cwd = os.getcwd()\n",
    "os.chdir('/Users/blancacanocamarero/repositorios/optimized_neural_network/src')"
   ]
  },
  {
   "cell_type": "code",
   "execution_count": 45,
   "metadata": {},
   "outputs": [
    {
     "name": "stdout",
     "output_type": "stream",
     "text": [
      "<class 'pandas.core.frame.DataFrame'>\n",
      "RangeIndex: 4600 entries, 0 to 4599\n",
      "Data columns (total 18 columns):\n",
      " #   Column         Non-Null Count  Dtype  \n",
      "---  ------         --------------  -----  \n",
      " 0   date           4600 non-null   object \n",
      " 1   price          4600 non-null   float64\n",
      " 2   bedrooms       4600 non-null   float64\n",
      " 3   bathrooms      4600 non-null   float64\n",
      " 4   sqft_living    4600 non-null   int64  \n",
      " 5   sqft_lot       4600 non-null   int64  \n",
      " 6   floors         4600 non-null   float64\n",
      " 7   waterfront     4600 non-null   int64  \n",
      " 8   view           4600 non-null   int64  \n",
      " 9   condition      4600 non-null   int64  \n",
      " 10  sqft_above     4600 non-null   int64  \n",
      " 11  sqft_basement  4600 non-null   int64  \n",
      " 12  yr_built       4600 non-null   int64  \n",
      " 13  yr_renovated   4600 non-null   int64  \n",
      " 14  street         4600 non-null   object \n",
      " 15  city           4600 non-null   object \n",
      " 16  statezip       4600 non-null   object \n",
      " 17  country        4600 non-null   object \n",
      "dtypes: float64(4), int64(9), object(5)\n",
      "memory usage: 647.0+ KB\n"
     ]
    },
    {
     "data": {
      "text/plain": [
       "Index(['date', 'price', 'bedrooms', 'bathrooms', 'sqft_living', 'sqft_lot',\n",
       "       'floors', 'waterfront', 'view', 'condition', 'sqft_above',\n",
       "       'sqft_basement', 'yr_built', 'yr_renovated', 'street', 'city',\n",
       "       'statezip', 'country'],\n",
       "      dtype='object')"
      ]
     },
     "execution_count": 45,
     "metadata": {},
     "output_type": "execute_result"
    }
   ],
   "source": [
    "import pandas as pd\n",
    "relative_path = '../'\n",
    "file_data = relative_path + 'Experiment/Data/HousePricePrediction/data.csv'\n",
    "df = pd.read_csv(file_data)\n",
    "df.info()\n",
    "\n",
    "df.columns"
   ]
  },
  {
   "attachments": {},
   "cell_type": "markdown",
   "metadata": {},
   "source": [
    "One hot encoding\n",
    "for street is too bigger"
   ]
  },
  {
   "cell_type": "code",
   "execution_count": 46,
   "metadata": {},
   "outputs": [
    {
     "name": "stdout",
     "output_type": "stream",
     "text": [
      "   street_1 View Ln NE  street_10 W Etruria St  street_100 20th Ave E  \\\n",
      "0                    0                       0                      0   \n",
      "1                    0                       0                      0   \n",
      "2                    0                       0                      0   \n",
      "3                    0                       0                      0   \n",
      "4                    0                       0                      0   \n",
      "\n",
      "   street_100 24th Ave E  street_100 Mt Si Pl NW  \\\n",
      "0                      0                       0   \n",
      "1                      0                       0   \n",
      "2                      0                       0   \n",
      "3                      0                       0   \n",
      "4                      0                       0   \n",
      "\n",
      "   street_1000 Mountain View Blvd SE  street_10000-10026 S 100th St  \\\n",
      "0                                  0                              0   \n",
      "1                                  0                              0   \n",
      "2                                  0                              0   \n",
      "3                                  0                              0   \n",
      "4                                  0                              0   \n",
      "\n",
      "   street_10005 16th Ave S  street_10009 SE 247th Pl  street_1001 SW 102nd St  \\\n",
      "0                        0                         0                        0   \n",
      "1                        0                         0                        0   \n",
      "2                        0                         0                        0   \n",
      "3                        0                         0                        0   \n",
      "4                        0                         0                        0   \n",
      "\n",
      "   ...  street_Indian Trail  street_Nuthatch Trail  street_SE 170th Pl  \\\n",
      "0  ...                    0                      0                   0   \n",
      "1  ...                    0                      0                   0   \n",
      "2  ...                    0                      0                   0   \n",
      "3  ...                    0                      0                   0   \n",
      "4  ...                    0                      0                   0   \n",
      "\n",
      "   street_SE 21st Ct  street_Schmitz Park to Alki Trail  \\\n",
      "0                  0                                  0   \n",
      "1                  0                                  0   \n",
      "2                  0                                  0   \n",
      "3                  0                                  0   \n",
      "4                  0                                  0   \n",
      "\n",
      "   street_Shangri-La Way NW  street_Sunrise Loop Trail  \\\n",
      "0                         0                          0   \n",
      "1                         0                          0   \n",
      "2                         0                          0   \n",
      "3                         0                          0   \n",
      "4                         0                          0   \n",
      "\n",
      "   street_Tolt Pipeline Trail  street_Trossachs Blvd SE  \\\n",
      "0                           0                         0   \n",
      "1                           0                         0   \n",
      "2                           0                         0   \n",
      "3                           0                         0   \n",
      "4                           0                         0   \n",
      "\n",
      "   street_Valley View Trail  \n",
      "0                         0  \n",
      "1                         0  \n",
      "2                         0  \n",
      "3                         0  \n",
      "4                         0  \n",
      "\n",
      "[5 rows x 4525 columns]\n"
     ]
    }
   ],
   "source": [
    "y = pd.get_dummies(df.street, prefix='street')\n",
    "print(y.head())"
   ]
  },
  {
   "cell_type": "code",
   "execution_count": 47,
   "metadata": {},
   "outputs": [
    {
     "name": "stdout",
     "output_type": "stream",
     "text": [
      "   city_Algona  city_Auburn  city_Beaux Arts Village  city_Bellevue  \\\n",
      "0            0            0                        0              0   \n",
      "1            0            0                        0              0   \n",
      "2            0            0                        0              0   \n",
      "3            0            0                        0              1   \n",
      "4            0            0                        0              0   \n",
      "\n",
      "   city_Black Diamond  city_Bothell  city_Burien  city_Carnation  \\\n",
      "0                   0             0            0               0   \n",
      "1                   0             0            0               0   \n",
      "2                   0             0            0               0   \n",
      "3                   0             0            0               0   \n",
      "4                   0             0            0               0   \n",
      "\n",
      "   city_Clyde Hill  city_Covington  ...  city_SeaTac  city_Seattle  \\\n",
      "0                0               0  ...            0             0   \n",
      "1                0               0  ...            0             1   \n",
      "2                0               0  ...            0             0   \n",
      "3                0               0  ...            0             0   \n",
      "4                0               0  ...            0             0   \n",
      "\n",
      "   city_Shoreline  city_Skykomish  city_Snoqualmie  city_Snoqualmie Pass  \\\n",
      "0               1               0                0                     0   \n",
      "1               0               0                0                     0   \n",
      "2               0               0                0                     0   \n",
      "3               0               0                0                     0   \n",
      "4               0               0                0                     0   \n",
      "\n",
      "   city_Tukwila  city_Vashon  city_Woodinville  city_Yarrow Point  \n",
      "0             0            0                 0                  0  \n",
      "1             0            0                 0                  0  \n",
      "2             0            0                 0                  0  \n",
      "3             0            0                 0                  0  \n",
      "4             0            0                 0                  0  \n",
      "\n",
      "[5 rows x 44 columns]\n"
     ]
    }
   ],
   "source": [
    "y = pd.get_dummies(df.city, prefix='city')\n",
    "print(y.head())"
   ]
  },
  {
   "cell_type": "code",
   "execution_count": 48,
   "metadata": {},
   "outputs": [
    {
     "name": "stdout",
     "output_type": "stream",
     "text": [
      "   country_USA\n",
      "0            1\n",
      "1            1\n",
      "2            1\n",
      "3            1\n",
      "4            1\n"
     ]
    }
   ],
   "source": [
    "# All are from USA (not useful)\n",
    "y = pd.get_dummies(df.country, prefix='country')\n",
    "print(y.head())"
   ]
  },
  {
   "cell_type": "code",
   "execution_count": 49,
   "metadata": {},
   "outputs": [
    {
     "name": "stdout",
     "output_type": "stream",
     "text": [
      "<class 'pandas.core.frame.DataFrame'>\n",
      "RangeIndex: 4600 entries, 0 to 4599\n",
      "Data columns (total 18 columns):\n",
      " #   Column         Non-Null Count  Dtype  \n",
      "---  ------         --------------  -----  \n",
      " 0   date           4600 non-null   object \n",
      " 1   price          4600 non-null   float64\n",
      " 2   bedrooms       4600 non-null   float64\n",
      " 3   bathrooms      4600 non-null   float64\n",
      " 4   sqft_living    4600 non-null   int64  \n",
      " 5   sqft_lot       4600 non-null   int64  \n",
      " 6   floors         4600 non-null   float64\n",
      " 7   waterfront     4600 non-null   int64  \n",
      " 8   view           4600 non-null   int64  \n",
      " 9   condition      4600 non-null   int64  \n",
      " 10  sqft_above     4600 non-null   int64  \n",
      " 11  sqft_basement  4600 non-null   int64  \n",
      " 12  yr_built       4600 non-null   int64  \n",
      " 13  yr_renovated   4600 non-null   int64  \n",
      " 14  street         4600 non-null   object \n",
      " 15  city           4600 non-null   object \n",
      " 16  statezip       4600 non-null   object \n",
      " 17  country        4600 non-null   object \n",
      "dtypes: float64(4), int64(9), object(5)\n",
      "memory usage: 647.0+ KB\n",
      "Size of training set 2064\n"
     ]
    }
   ],
   "source": [
    "import pandas as pd\n",
    "import numpy as np\n",
    "from sklearn.model_selection import train_test_split\n",
    "from sklearn import preprocessing\n",
    "\n",
    "# Read data \n",
    "file_data = relative_path+'Experiment/Data/HousePricePrediction/data.csv'\n",
    "df = pd.read_csv(file_data)\n",
    "df.info()\n",
    "\n",
    "columns = ['date', 'price', 'bedrooms', \n",
    "'bathrooms', 'sqft_living', 'sqft_lot',\n",
    "       'floors', 'waterfront', 'view',\n",
    "        'condition', 'sqft_above',\n",
    "       'sqft_basement', \n",
    "       'yr_built', 'yr_renovated', 'street', 'city',\n",
    "       'statezip', 'country']\n",
    "\n",
    "numeric_columns = ['price', 'bedrooms', \n",
    "'bathrooms', 'sqft_living', 'sqft_lot',\n",
    "       'floors', 'waterfront', 'view',\n",
    "        'condition', 'sqft_above',\n",
    "       'sqft_basement', \n",
    "       'yr_built', 'yr_renovated' ]\n",
    "numeric_columns_without_price = [ 'bedrooms', \n",
    "'bathrooms', 'sqft_living', 'sqft_lot',\n",
    "       'floors', 'waterfront', 'view',\n",
    "        'condition', 'sqft_above',\n",
    "       'sqft_basement', \n",
    "       'yr_built', 'yr_renovated' ]\n",
    "\n",
    "# we are going to select \n",
    "X = df[numeric_columns_without_price].to_numpy()\n",
    "y = df.price.to_numpy()\n",
    "\n",
    "# Split data\n",
    "test_ratio = 0.33\n",
    "inside_test = 0.33\n",
    "\n",
    "X_train_total, X_test_total, y_train_total, y_test = train_test_split(\n",
    "X, y, test_size = test_ratio, random_state=42)\n",
    "\n",
    "X_train, X_test_inside, y_train, y_test_inside = train_test_split(\n",
    "X_train_total, y_train_total, test_size = test_ratio, random_state=42)\n",
    "print('Size of training set', len(y_train))\n",
    "\n",
    "scaler = preprocessing.StandardScaler().fit(X_train)\n",
    "\n",
    "X_train_scaled = scaler.transform(X_train)\n",
    "X_test_inside_scaled = scaler.transform(X_test_inside)\n"
   ]
  },
  {
   "cell_type": "code",
   "execution_count": 53,
   "metadata": {},
   "outputs": [
    {
     "name": "stdout",
     "output_type": "stream",
     "text": [
      "---\n",
      "0, 200, 1, 0, 0, 14010790.468, 0.029\n",
      "\n",
      "Experiment 0, neurons: 200, batch:32, number of iteration 1, 21070383.775, 0.009\n",
      "Experiment 0, neurons: 200, batch:32, number of iteration 17, 21115102.113, 0.128\n",
      "Experiment 0, neurons: 200, batch:64, number of iteration 1, 21327447.452, 0.014\n"
     ]
    },
    {
     "name": "stderr",
     "output_type": "stream",
     "text": [
      "/Users/blancacanocamarero/miniforge3/envs/tensorflow/lib/python3.9/site-packages/sklearn/neural_network/_multilayer_perceptron.py:692: ConvergenceWarning: Stochastic Optimizer: Maximum iterations (1) reached and the optimization hasn't converged yet.\n",
      "  warnings.warn(\n",
      "/Users/blancacanocamarero/miniforge3/envs/tensorflow/lib/python3.9/site-packages/sklearn/neural_network/_multilayer_perceptron.py:692: ConvergenceWarning: Stochastic Optimizer: Maximum iterations (1) reached and the optimization hasn't converged yet.\n",
      "  warnings.warn(\n"
     ]
    },
    {
     "name": "stdout",
     "output_type": "stream",
     "text": [
      "Experiment 0, neurons: 200, batch:64, number of iteration 15, 21246747.017, 0.274\n",
      "---\n",
      "0, 1000, 1, 0, 0, 12650289.104, 0.609\n",
      "\n",
      "Experiment 0, neurons: 1000, batch:32, number of iteration 1, 21547867.577, 0.119\n"
     ]
    },
    {
     "name": "stderr",
     "output_type": "stream",
     "text": [
      "/Users/blancacanocamarero/miniforge3/envs/tensorflow/lib/python3.9/site-packages/sklearn/neural_network/_multilayer_perceptron.py:692: ConvergenceWarning: Stochastic Optimizer: Maximum iterations (1) reached and the optimization hasn't converged yet.\n",
      "  warnings.warn(\n",
      "/Users/blancacanocamarero/miniforge3/envs/tensorflow/lib/python3.9/site-packages/sklearn/neural_network/_multilayer_perceptron.py:692: ConvergenceWarning: Stochastic Optimizer: Maximum iterations (21) reached and the optimization hasn't converged yet.\n",
      "  warnings.warn(\n",
      "/Users/blancacanocamarero/miniforge3/envs/tensorflow/lib/python3.9/site-packages/sklearn/neural_network/_multilayer_perceptron.py:692: ConvergenceWarning: Stochastic Optimizer: Maximum iterations (1) reached and the optimization hasn't converged yet.\n",
      "  warnings.warn(\n"
     ]
    },
    {
     "name": "stdout",
     "output_type": "stream",
     "text": [
      "Experiment 0, neurons: 1000, batch:32, number of iteration 21, 24618730.908, 2.064\n",
      "Experiment 0, neurons: 1000, batch:64, number of iteration 1, 27283660.445, 0.068\n"
     ]
    },
    {
     "name": "stderr",
     "output_type": "stream",
     "text": [
      "/Users/blancacanocamarero/miniforge3/envs/tensorflow/lib/python3.9/site-packages/sklearn/neural_network/_multilayer_perceptron.py:692: ConvergenceWarning: Stochastic Optimizer: Maximum iterations (21) reached and the optimization hasn't converged yet.\n",
      "  warnings.warn(\n"
     ]
    },
    {
     "name": "stdout",
     "output_type": "stream",
     "text": [
      "Experiment 0, neurons: 1000, batch:64, number of iteration 21, 32021150.787, 1.346\n",
      "---\n",
      "0, 2000, 1, 0, 0, 13111234.205, 2.362\n",
      "\n",
      "Experiment 0, neurons: 2000, batch:32, number of iteration 1, 1224598334937347263140552769536.000, 0.134\n"
     ]
    },
    {
     "name": "stderr",
     "output_type": "stream",
     "text": [
      "/Users/blancacanocamarero/miniforge3/envs/tensorflow/lib/python3.9/site-packages/sklearn/neural_network/_multilayer_perceptron.py:692: ConvergenceWarning: Stochastic Optimizer: Maximum iterations (1) reached and the optimization hasn't converged yet.\n",
      "  warnings.warn(\n",
      "/Users/blancacanocamarero/miniforge3/envs/tensorflow/lib/python3.9/site-packages/numpy/core/_methods.py:160: RuntimeWarning: overflow encountered in reduce\n",
      "  ret = umr_sum(arr, axis, dtype, out, keepdims)\n",
      "/Users/blancacanocamarero/miniforge3/envs/tensorflow/lib/python3.9/site-packages/sklearn/neural_network/_base.py:174: RuntimeWarning: overflow encountered in square\n",
      "  return ((y_true - y_pred) ** 2).mean() / 2\n",
      "/Users/blancacanocamarero/miniforge3/envs/tensorflow/lib/python3.9/site-packages/sklearn/neural_network/_multilayer_perceptron.py:291: RuntimeWarning: invalid value encountered in double_scalars\n",
      "  loss += (0.5 * self.alpha) * values / n_samples\n",
      "/Users/blancacanocamarero/miniforge3/envs/tensorflow/lib/python3.9/site-packages/sklearn/utils/extmath.py:153: RuntimeWarning: overflow encountered in matmul\n",
      "  ret = a @ b\n",
      "/Users/blancacanocamarero/miniforge3/envs/tensorflow/lib/python3.9/site-packages/sklearn/neural_network/_base.py:129: RuntimeWarning: invalid value encountered in multiply\n",
      "  delta *= 1 - Z ** 2\n",
      "/Users/blancacanocamarero/miniforge3/envs/tensorflow/lib/python3.9/site-packages/sklearn/neural_network/_multilayer_perceptron.py:692: ConvergenceWarning: Stochastic Optimizer: Maximum iterations (21) reached and the optimization hasn't converged yet.\n",
      "  warnings.warn(\n",
      "/Users/blancacanocamarero/miniforge3/envs/tensorflow/lib/python3.9/site-packages/sklearn/neural_network/_multilayer_perceptron.py:692: ConvergenceWarning: Stochastic Optimizer: Maximum iterations (1) reached and the optimization hasn't converged yet.\n",
      "  warnings.warn(\n"
     ]
    },
    {
     "name": "stdout",
     "output_type": "stream",
     "text": [
      "Experiment 0, neurons: 2000, batch:32, number of iteration 21, nan, 3.785\n",
      "Experiment 0, neurons: 2000, batch:64, number of iteration 1, 2823983194859027456.000, 0.096\n",
      "Experiment 0, neurons: 2000, batch:64, number of iteration 12, 204298231976264085629611610766425028379128474295980818895866546851082109368347669818146695090009490922983662493994325069469767251275483455272425357312.000, 1.563\n",
      "---\n",
      "1, 200, 1, 0, 0, 13063464.263, 0.028\n",
      "\n",
      "Experiment 1, neurons: 200, batch:32, number of iteration 1, 21023234.979, 0.009\n",
      "Experiment 1, neurons: 200, batch:32, number of iteration 14, 21413189.699, 0.103\n",
      "Experiment 1, neurons: 200, batch:64, number of iteration 1, 21489157.427, 0.014\n"
     ]
    },
    {
     "name": "stderr",
     "output_type": "stream",
     "text": [
      "/Users/blancacanocamarero/miniforge3/envs/tensorflow/lib/python3.9/site-packages/sklearn/neural_network/_multilayer_perceptron.py:692: ConvergenceWarning: Stochastic Optimizer: Maximum iterations (1) reached and the optimization hasn't converged yet.\n",
      "  warnings.warn(\n",
      "/Users/blancacanocamarero/miniforge3/envs/tensorflow/lib/python3.9/site-packages/sklearn/neural_network/_multilayer_perceptron.py:692: ConvergenceWarning: Stochastic Optimizer: Maximum iterations (1) reached and the optimization hasn't converged yet.\n",
      "  warnings.warn(\n",
      "/Users/blancacanocamarero/miniforge3/envs/tensorflow/lib/python3.9/site-packages/sklearn/neural_network/_multilayer_perceptron.py:692: ConvergenceWarning: Stochastic Optimizer: Maximum iterations (21) reached and the optimization hasn't converged yet.\n",
      "  warnings.warn(\n"
     ]
    },
    {
     "name": "stdout",
     "output_type": "stream",
     "text": [
      "Experiment 1, neurons: 200, batch:64, number of iteration 21, 21215249.377, 0.293\n"
     ]
    },
    {
     "name": "stderr",
     "output_type": "stream",
     "text": [
      "/Users/blancacanocamarero/repositorios/optimized_neural_network/src/learnt_initialization.py:65: RuntimeWarning: divide by zero encountered in double_scalars\n",
      "  aux = 2*M /(px_s - px_a)\n",
      "/Users/blancacanocamarero/repositorios/optimized_neural_network/src/one_layer_neural_network.py:31: RuntimeWarning: invalid value encountered in matmul\n",
      "  s = self.A @ X_bias.T\n",
      "/Users/blancacanocamarero/miniforge3/envs/tensorflow/lib/python3.9/site-packages/sklearn/neural_network/_multilayer_perceptron.py:692: ConvergenceWarning: Stochastic Optimizer: Maximum iterations (1) reached and the optimization hasn't converged yet.\n",
      "  warnings.warn(\n"
     ]
    },
    {
     "name": "stdout",
     "output_type": "stream",
     "text": [
      "---\n",
      "1, 1000, 1, 0, 0, nan, 0.597\n",
      "\n",
      "Experiment 1, neurons: 1000, batch:32, number of iteration 1, 31850205.067, 0.155\n",
      "Experiment 1, neurons: 1000, batch:32, number of iteration 14, 30491322.741, 1.400\n",
      "Experiment 1, neurons: 1000, batch:64, number of iteration 1, 34337370.179, 0.074\n"
     ]
    },
    {
     "name": "stderr",
     "output_type": "stream",
     "text": [
      "/Users/blancacanocamarero/miniforge3/envs/tensorflow/lib/python3.9/site-packages/sklearn/neural_network/_multilayer_perceptron.py:692: ConvergenceWarning: Stochastic Optimizer: Maximum iterations (1) reached and the optimization hasn't converged yet.\n",
      "  warnings.warn(\n",
      "/Users/blancacanocamarero/miniforge3/envs/tensorflow/lib/python3.9/site-packages/sklearn/neural_network/_multilayer_perceptron.py:692: ConvergenceWarning: Stochastic Optimizer: Maximum iterations (21) reached and the optimization hasn't converged yet.\n",
      "  warnings.warn(\n"
     ]
    },
    {
     "name": "stdout",
     "output_type": "stream",
     "text": [
      "Experiment 1, neurons: 1000, batch:64, number of iteration 21, 29527808.907, 1.423\n",
      "---\n",
      "1, 2000, 1, 0, 0, 12918661.602, 2.327\n",
      "\n"
     ]
    },
    {
     "name": "stderr",
     "output_type": "stream",
     "text": [
      "/Users/blancacanocamarero/miniforge3/envs/tensorflow/lib/python3.9/site-packages/sklearn/neural_network/_multilayer_perceptron.py:692: ConvergenceWarning: Stochastic Optimizer: Maximum iterations (1) reached and the optimization hasn't converged yet.\n",
      "  warnings.warn(\n"
     ]
    },
    {
     "name": "stdout",
     "output_type": "stream",
     "text": [
      "Experiment 1, neurons: 2000, batch:32, number of iteration 1, 883961361765394877507587538944.000, 0.230\n"
     ]
    },
    {
     "name": "stderr",
     "output_type": "stream",
     "text": [
      "/Users/blancacanocamarero/miniforge3/envs/tensorflow/lib/python3.9/site-packages/numpy/core/_methods.py:160: RuntimeWarning: overflow encountered in reduce\n",
      "  ret = umr_sum(arr, axis, dtype, out, keepdims)\n",
      "/Users/blancacanocamarero/miniforge3/envs/tensorflow/lib/python3.9/site-packages/sklearn/neural_network/_base.py:174: RuntimeWarning: overflow encountered in square\n",
      "  return ((y_true - y_pred) ** 2).mean() / 2\n",
      "/Users/blancacanocamarero/miniforge3/envs/tensorflow/lib/python3.9/site-packages/sklearn/neural_network/_multilayer_perceptron.py:291: RuntimeWarning: invalid value encountered in double_scalars\n",
      "  loss += (0.5 * self.alpha) * values / n_samples\n",
      "/Users/blancacanocamarero/miniforge3/envs/tensorflow/lib/python3.9/site-packages/sklearn/utils/extmath.py:153: RuntimeWarning: overflow encountered in matmul\n",
      "  ret = a @ b\n",
      "/Users/blancacanocamarero/miniforge3/envs/tensorflow/lib/python3.9/site-packages/sklearn/neural_network/_base.py:129: RuntimeWarning: invalid value encountered in multiply\n",
      "  delta *= 1 - Z ** 2\n",
      "/Users/blancacanocamarero/miniforge3/envs/tensorflow/lib/python3.9/site-packages/sklearn/neural_network/_multilayer_perceptron.py:692: ConvergenceWarning: Stochastic Optimizer: Maximum iterations (21) reached and the optimization hasn't converged yet.\n",
      "  warnings.warn(\n",
      "/Users/blancacanocamarero/miniforge3/envs/tensorflow/lib/python3.9/site-packages/sklearn/neural_network/_multilayer_perceptron.py:692: ConvergenceWarning: Stochastic Optimizer: Maximum iterations (1) reached and the optimization hasn't converged yet.\n",
      "  warnings.warn(\n"
     ]
    },
    {
     "name": "stdout",
     "output_type": "stream",
     "text": [
      "Experiment 1, neurons: 2000, batch:32, number of iteration 21, nan, 3.139\n",
      "Experiment 1, neurons: 2000, batch:64, number of iteration 1, 3454864450653073920.000, 0.106\n",
      "Experiment 1, neurons: 2000, batch:64, number of iteration 12, 288365656679142241874115714000325353071530371622314848179636782250137897771155303685257874163225932029138861597824016093406634755097735911430737100800.000, 1.236\n",
      "---\n",
      "2, 200, 1, 0, 0, 13163230.875, 0.030\n",
      "\n",
      "Experiment 2, neurons: 200, batch:32, number of iteration 1, 20992987.489, 0.008\n",
      "Experiment 2, neurons: 200, batch:32, number of iteration 21, 21071544.346, 0.155\n"
     ]
    },
    {
     "name": "stderr",
     "output_type": "stream",
     "text": [
      "/Users/blancacanocamarero/miniforge3/envs/tensorflow/lib/python3.9/site-packages/sklearn/neural_network/_multilayer_perceptron.py:692: ConvergenceWarning: Stochastic Optimizer: Maximum iterations (1) reached and the optimization hasn't converged yet.\n",
      "  warnings.warn(\n",
      "/Users/blancacanocamarero/miniforge3/envs/tensorflow/lib/python3.9/site-packages/sklearn/neural_network/_multilayer_perceptron.py:692: ConvergenceWarning: Stochastic Optimizer: Maximum iterations (21) reached and the optimization hasn't converged yet.\n",
      "  warnings.warn(\n",
      "/Users/blancacanocamarero/miniforge3/envs/tensorflow/lib/python3.9/site-packages/sklearn/neural_network/_multilayer_perceptron.py:692: ConvergenceWarning: Stochastic Optimizer: Maximum iterations (1) reached and the optimization hasn't converged yet.\n",
      "  warnings.warn(\n"
     ]
    },
    {
     "name": "stdout",
     "output_type": "stream",
     "text": [
      "Experiment 2, neurons: 200, batch:64, number of iteration 1, 21747049.000, 0.017\n",
      "Experiment 2, neurons: 200, batch:64, number of iteration 17, 21023346.447, 0.250\n",
      "---\n",
      "2, 1000, 1, 0, 0, 21730904.183, 0.585\n",
      "\n",
      "Experiment 2, neurons: 1000, batch:32, number of iteration 1, 23848135.294, 0.108\n"
     ]
    },
    {
     "name": "stderr",
     "output_type": "stream",
     "text": [
      "/Users/blancacanocamarero/miniforge3/envs/tensorflow/lib/python3.9/site-packages/sklearn/neural_network/_multilayer_perceptron.py:692: ConvergenceWarning: Stochastic Optimizer: Maximum iterations (1) reached and the optimization hasn't converged yet.\n",
      "  warnings.warn(\n"
     ]
    },
    {
     "name": "stdout",
     "output_type": "stream",
     "text": [
      "Experiment 2, neurons: 1000, batch:32, number of iteration 13, 24077184.073, 1.188\n",
      "Experiment 2, neurons: 1000, batch:64, number of iteration 1, 27890626.282, 0.069\n"
     ]
    },
    {
     "name": "stderr",
     "output_type": "stream",
     "text": [
      "/Users/blancacanocamarero/miniforge3/envs/tensorflow/lib/python3.9/site-packages/sklearn/neural_network/_multilayer_perceptron.py:692: ConvergenceWarning: Stochastic Optimizer: Maximum iterations (1) reached and the optimization hasn't converged yet.\n",
      "  warnings.warn(\n",
      "/Users/blancacanocamarero/miniforge3/envs/tensorflow/lib/python3.9/site-packages/sklearn/neural_network/_multilayer_perceptron.py:692: ConvergenceWarning: Stochastic Optimizer: Maximum iterations (21) reached and the optimization hasn't converged yet.\n",
      "  warnings.warn(\n"
     ]
    },
    {
     "name": "stdout",
     "output_type": "stream",
     "text": [
      "Experiment 2, neurons: 1000, batch:64, number of iteration 21, 33526885.834, 1.409\n",
      "---\n",
      "2, 2000, 1, 0, 0, 12372817.635, 2.309\n",
      "\n",
      "Experiment 2, neurons: 2000, batch:32, number of iteration 1, 494769187216500846825817767936.000, 0.160\n"
     ]
    },
    {
     "name": "stderr",
     "output_type": "stream",
     "text": [
      "/Users/blancacanocamarero/miniforge3/envs/tensorflow/lib/python3.9/site-packages/sklearn/neural_network/_multilayer_perceptron.py:692: ConvergenceWarning: Stochastic Optimizer: Maximum iterations (1) reached and the optimization hasn't converged yet.\n",
      "  warnings.warn(\n",
      "/Users/blancacanocamarero/miniforge3/envs/tensorflow/lib/python3.9/site-packages/numpy/core/_methods.py:160: RuntimeWarning: overflow encountered in reduce\n",
      "  ret = umr_sum(arr, axis, dtype, out, keepdims)\n",
      "/Users/blancacanocamarero/miniforge3/envs/tensorflow/lib/python3.9/site-packages/sklearn/neural_network/_base.py:174: RuntimeWarning: overflow encountered in square\n",
      "  return ((y_true - y_pred) ** 2).mean() / 2\n",
      "/Users/blancacanocamarero/miniforge3/envs/tensorflow/lib/python3.9/site-packages/sklearn/neural_network/_multilayer_perceptron.py:291: RuntimeWarning: invalid value encountered in double_scalars\n",
      "  loss += (0.5 * self.alpha) * values / n_samples\n",
      "/Users/blancacanocamarero/miniforge3/envs/tensorflow/lib/python3.9/site-packages/sklearn/utils/extmath.py:153: RuntimeWarning: overflow encountered in matmul\n",
      "  ret = a @ b\n",
      "/Users/blancacanocamarero/miniforge3/envs/tensorflow/lib/python3.9/site-packages/sklearn/neural_network/_base.py:129: RuntimeWarning: invalid value encountered in multiply\n",
      "  delta *= 1 - Z ** 2\n",
      "/Users/blancacanocamarero/miniforge3/envs/tensorflow/lib/python3.9/site-packages/sklearn/neural_network/_multilayer_perceptron.py:692: ConvergenceWarning: Stochastic Optimizer: Maximum iterations (21) reached and the optimization hasn't converged yet.\n",
      "  warnings.warn(\n",
      "/Users/blancacanocamarero/miniforge3/envs/tensorflow/lib/python3.9/site-packages/sklearn/neural_network/_multilayer_perceptron.py:692: ConvergenceWarning: Stochastic Optimizer: Maximum iterations (1) reached and the optimization hasn't converged yet.\n",
      "  warnings.warn(\n"
     ]
    },
    {
     "name": "stdout",
     "output_type": "stream",
     "text": [
      "Experiment 2, neurons: 2000, batch:32, number of iteration 21, nan, 3.257\n",
      "Experiment 2, neurons: 2000, batch:64, number of iteration 1, 2909554554830159872.000, 0.094\n",
      "Experiment 2, neurons: 2000, batch:64, number of iteration 12, 268186672160220924052969612945099968226415936544604035074292631289199455982197274282123518923673286366639075197142584450373675244572030428691185008640.000, 1.605\n",
      "---\n",
      "3, 200, 1, 0, 0, 12827748.687, 0.030\n",
      "\n",
      "Experiment 3, neurons: 200, batch:32, number of iteration 1, 20457415.059, 0.008\n",
      "Experiment 3, neurons: 200, batch:32, number of iteration 13, 20997289.167, 0.097\n",
      "Experiment 3, neurons: 200, batch:64, number of iteration 1, 21577829.124, 0.013\n"
     ]
    },
    {
     "name": "stderr",
     "output_type": "stream",
     "text": [
      "/Users/blancacanocamarero/miniforge3/envs/tensorflow/lib/python3.9/site-packages/sklearn/neural_network/_multilayer_perceptron.py:692: ConvergenceWarning: Stochastic Optimizer: Maximum iterations (1) reached and the optimization hasn't converged yet.\n",
      "  warnings.warn(\n",
      "/Users/blancacanocamarero/miniforge3/envs/tensorflow/lib/python3.9/site-packages/sklearn/neural_network/_multilayer_perceptron.py:692: ConvergenceWarning: Stochastic Optimizer: Maximum iterations (1) reached and the optimization hasn't converged yet.\n",
      "  warnings.warn(\n"
     ]
    },
    {
     "name": "stdout",
     "output_type": "stream",
     "text": [
      "Experiment 3, neurons: 200, batch:64, number of iteration 14, 20263203.734, 0.213\n",
      "---\n",
      "3, 1000, 1, 0, 0, 12804465.184, 0.587\n",
      "\n",
      "Experiment 3, neurons: 1000, batch:32, number of iteration 1, 31739427.780, 0.097\n"
     ]
    },
    {
     "name": "stderr",
     "output_type": "stream",
     "text": [
      "/Users/blancacanocamarero/miniforge3/envs/tensorflow/lib/python3.9/site-packages/sklearn/neural_network/_multilayer_perceptron.py:692: ConvergenceWarning: Stochastic Optimizer: Maximum iterations (1) reached and the optimization hasn't converged yet.\n",
      "  warnings.warn(\n",
      "/Users/blancacanocamarero/miniforge3/envs/tensorflow/lib/python3.9/site-packages/sklearn/neural_network/_multilayer_perceptron.py:692: ConvergenceWarning: Stochastic Optimizer: Maximum iterations (21) reached and the optimization hasn't converged yet.\n",
      "  warnings.warn(\n",
      "/Users/blancacanocamarero/miniforge3/envs/tensorflow/lib/python3.9/site-packages/sklearn/neural_network/_multilayer_perceptron.py:692: ConvergenceWarning: Stochastic Optimizer: Maximum iterations (1) reached and the optimization hasn't converged yet.\n",
      "  warnings.warn(\n"
     ]
    },
    {
     "name": "stdout",
     "output_type": "stream",
     "text": [
      "Experiment 3, neurons: 1000, batch:32, number of iteration 21, 30042342.433, 2.142\n",
      "Experiment 3, neurons: 1000, batch:64, number of iteration 1, 26445012.731, 0.074\n"
     ]
    },
    {
     "name": "stderr",
     "output_type": "stream",
     "text": [
      "/Users/blancacanocamarero/miniforge3/envs/tensorflow/lib/python3.9/site-packages/sklearn/neural_network/_multilayer_perceptron.py:692: ConvergenceWarning: Stochastic Optimizer: Maximum iterations (21) reached and the optimization hasn't converged yet.\n",
      "  warnings.warn(\n"
     ]
    },
    {
     "name": "stdout",
     "output_type": "stream",
     "text": [
      "Experiment 3, neurons: 1000, batch:64, number of iteration 21, 33085809.699, 1.424\n",
      "---\n",
      "3, 2000, 1, 0, 0, 14193275.703, 2.313\n",
      "\n",
      "Experiment 3, neurons: 2000, batch:32, number of iteration 1, 512351669763725964464630005760.000, 0.160\n"
     ]
    },
    {
     "name": "stderr",
     "output_type": "stream",
     "text": [
      "/Users/blancacanocamarero/miniforge3/envs/tensorflow/lib/python3.9/site-packages/sklearn/neural_network/_multilayer_perceptron.py:692: ConvergenceWarning: Stochastic Optimizer: Maximum iterations (1) reached and the optimization hasn't converged yet.\n",
      "  warnings.warn(\n",
      "/Users/blancacanocamarero/miniforge3/envs/tensorflow/lib/python3.9/site-packages/numpy/core/_methods.py:160: RuntimeWarning: overflow encountered in reduce\n",
      "  ret = umr_sum(arr, axis, dtype, out, keepdims)\n",
      "/Users/blancacanocamarero/miniforge3/envs/tensorflow/lib/python3.9/site-packages/sklearn/neural_network/_base.py:174: RuntimeWarning: overflow encountered in square\n",
      "  return ((y_true - y_pred) ** 2).mean() / 2\n",
      "/Users/blancacanocamarero/miniforge3/envs/tensorflow/lib/python3.9/site-packages/sklearn/neural_network/_multilayer_perceptron.py:291: RuntimeWarning: invalid value encountered in double_scalars\n",
      "  loss += (0.5 * self.alpha) * values / n_samples\n",
      "/Users/blancacanocamarero/miniforge3/envs/tensorflow/lib/python3.9/site-packages/sklearn/utils/extmath.py:153: RuntimeWarning: overflow encountered in matmul\n",
      "  ret = a @ b\n",
      "/Users/blancacanocamarero/miniforge3/envs/tensorflow/lib/python3.9/site-packages/sklearn/neural_network/_base.py:129: RuntimeWarning: invalid value encountered in multiply\n",
      "  delta *= 1 - Z ** 2\n",
      "/Users/blancacanocamarero/miniforge3/envs/tensorflow/lib/python3.9/site-packages/sklearn/neural_network/_multilayer_perceptron.py:692: ConvergenceWarning: Stochastic Optimizer: Maximum iterations (21) reached and the optimization hasn't converged yet.\n",
      "  warnings.warn(\n",
      "/Users/blancacanocamarero/miniforge3/envs/tensorflow/lib/python3.9/site-packages/sklearn/neural_network/_multilayer_perceptron.py:692: ConvergenceWarning: Stochastic Optimizer: Maximum iterations (1) reached and the optimization hasn't converged yet.\n",
      "  warnings.warn(\n"
     ]
    },
    {
     "name": "stdout",
     "output_type": "stream",
     "text": [
      "Experiment 3, neurons: 2000, batch:32, number of iteration 21, nan, 2.939\n",
      "Experiment 3, neurons: 2000, batch:64, number of iteration 1, 2915124907286806016.000, 0.094\n",
      "Experiment 3, neurons: 2000, batch:64, number of iteration 12, 278161939316749500801398369708792754186709967205504232064917628473553547866483351910901623282662253980741745781091799891420302710695298541088615170048.000, 1.128\n",
      "---\n",
      "4, 200, 1, 0, 0, 12848665.831, 0.028\n",
      "\n",
      "Experiment 4, neurons: 200, batch:32, number of iteration 1, 20747427.969, 0.008\n",
      "Experiment 4, neurons: 200, batch:32, number of iteration 16, 21432431.463, 0.118\n",
      "Experiment 4, neurons: 200, batch:64, number of iteration 1, 22055287.958, 0.014\n"
     ]
    },
    {
     "name": "stderr",
     "output_type": "stream",
     "text": [
      "/Users/blancacanocamarero/miniforge3/envs/tensorflow/lib/python3.9/site-packages/sklearn/neural_network/_multilayer_perceptron.py:692: ConvergenceWarning: Stochastic Optimizer: Maximum iterations (1) reached and the optimization hasn't converged yet.\n",
      "  warnings.warn(\n",
      "/Users/blancacanocamarero/miniforge3/envs/tensorflow/lib/python3.9/site-packages/sklearn/neural_network/_multilayer_perceptron.py:692: ConvergenceWarning: Stochastic Optimizer: Maximum iterations (1) reached and the optimization hasn't converged yet.\n",
      "  warnings.warn(\n",
      "/Users/blancacanocamarero/miniforge3/envs/tensorflow/lib/python3.9/site-packages/sklearn/neural_network/_multilayer_perceptron.py:692: ConvergenceWarning: Stochastic Optimizer: Maximum iterations (21) reached and the optimization hasn't converged yet.\n",
      "  warnings.warn(\n"
     ]
    },
    {
     "name": "stdout",
     "output_type": "stream",
     "text": [
      "Experiment 4, neurons: 200, batch:64, number of iteration 21, 21008853.662, 0.299\n",
      "---\n",
      "4, 1000, 1, 0, 0, 13243088.499, 0.601\n",
      "\n",
      "Experiment 4, neurons: 1000, batch:32, number of iteration 1, 27233633.069, 0.099\n"
     ]
    },
    {
     "name": "stderr",
     "output_type": "stream",
     "text": [
      "/Users/blancacanocamarero/miniforge3/envs/tensorflow/lib/python3.9/site-packages/sklearn/neural_network/_multilayer_perceptron.py:692: ConvergenceWarning: Stochastic Optimizer: Maximum iterations (1) reached and the optimization hasn't converged yet.\n",
      "  warnings.warn(\n"
     ]
    },
    {
     "name": "stdout",
     "output_type": "stream",
     "text": [
      "Experiment 4, neurons: 1000, batch:32, number of iteration 21, 26542895.917, 2.560\n",
      "Experiment 4, neurons: 1000, batch:64, number of iteration 1, 28309969.250, 0.058\n"
     ]
    },
    {
     "name": "stderr",
     "output_type": "stream",
     "text": [
      "/Users/blancacanocamarero/miniforge3/envs/tensorflow/lib/python3.9/site-packages/sklearn/neural_network/_multilayer_perceptron.py:692: ConvergenceWarning: Stochastic Optimizer: Maximum iterations (1) reached and the optimization hasn't converged yet.\n",
      "  warnings.warn(\n",
      "/Users/blancacanocamarero/miniforge3/envs/tensorflow/lib/python3.9/site-packages/sklearn/neural_network/_multilayer_perceptron.py:692: ConvergenceWarning: Stochastic Optimizer: Maximum iterations (21) reached and the optimization hasn't converged yet.\n",
      "  warnings.warn(\n"
     ]
    },
    {
     "name": "stdout",
     "output_type": "stream",
     "text": [
      "Experiment 4, neurons: 1000, batch:64, number of iteration 21, 29394834.157, 1.273\n",
      "---\n",
      "4, 2000, 1, 0, 0, 12753369.456, 2.319\n",
      "\n",
      "Experiment 4, neurons: 2000, batch:32, number of iteration 1, 1019330015104735207875814621184.000, 0.112\n"
     ]
    },
    {
     "name": "stderr",
     "output_type": "stream",
     "text": [
      "/Users/blancacanocamarero/miniforge3/envs/tensorflow/lib/python3.9/site-packages/sklearn/neural_network/_multilayer_perceptron.py:692: ConvergenceWarning: Stochastic Optimizer: Maximum iterations (1) reached and the optimization hasn't converged yet.\n",
      "  warnings.warn(\n",
      "/Users/blancacanocamarero/miniforge3/envs/tensorflow/lib/python3.9/site-packages/numpy/core/_methods.py:160: RuntimeWarning: overflow encountered in reduce\n",
      "  ret = umr_sum(arr, axis, dtype, out, keepdims)\n",
      "/Users/blancacanocamarero/miniforge3/envs/tensorflow/lib/python3.9/site-packages/sklearn/neural_network/_base.py:174: RuntimeWarning: overflow encountered in square\n",
      "  return ((y_true - y_pred) ** 2).mean() / 2\n",
      "/Users/blancacanocamarero/miniforge3/envs/tensorflow/lib/python3.9/site-packages/sklearn/neural_network/_multilayer_perceptron.py:291: RuntimeWarning: invalid value encountered in double_scalars\n",
      "  loss += (0.5 * self.alpha) * values / n_samples\n",
      "/Users/blancacanocamarero/miniforge3/envs/tensorflow/lib/python3.9/site-packages/sklearn/utils/extmath.py:153: RuntimeWarning: overflow encountered in matmul\n",
      "  ret = a @ b\n",
      "/Users/blancacanocamarero/miniforge3/envs/tensorflow/lib/python3.9/site-packages/sklearn/neural_network/_base.py:129: RuntimeWarning: invalid value encountered in multiply\n",
      "  delta *= 1 - Z ** 2\n",
      "/Users/blancacanocamarero/miniforge3/envs/tensorflow/lib/python3.9/site-packages/sklearn/neural_network/_multilayer_perceptron.py:692: ConvergenceWarning: Stochastic Optimizer: Maximum iterations (21) reached and the optimization hasn't converged yet.\n",
      "  warnings.warn(\n",
      "/Users/blancacanocamarero/miniforge3/envs/tensorflow/lib/python3.9/site-packages/sklearn/neural_network/_multilayer_perceptron.py:692: ConvergenceWarning: Stochastic Optimizer: Maximum iterations (1) reached and the optimization hasn't converged yet.\n",
      "  warnings.warn(\n"
     ]
    },
    {
     "name": "stdout",
     "output_type": "stream",
     "text": [
      "Experiment 4, neurons: 2000, batch:32, number of iteration 21, nan, 2.848\n",
      "Experiment 4, neurons: 2000, batch:64, number of iteration 1, 2894200636760293888.000, 0.096\n",
      "Experiment 4, neurons: 2000, batch:64, number of iteration 12, 212974018401771565598516660286657004712314413008930810953016901294781534828656869017919913612435629903167341008195850404128169088569378893116263628800.000, 1.195\n"
     ]
    }
   ],
   "source": [
    "\n",
    "# Training the model \n",
    "from sklearn.neural_network import MLPRegressor\n",
    "from learnt_initialization import learnt_initialization\n",
    "import time\n",
    "\n",
    "activation_function = 'tanh'\n",
    "f = open(relative_path+'/Experiment/results_house_price.csv', \"w\")\n",
    "f.write('Experiment,  neurons, initialization_algorithm, batch, maximum_iter, error, time \\n')\n",
    "for i in range(5):\n",
    "    for neurons in [200,1000, 2000]:\n",
    "\n",
    "        init_time = time.time()\n",
    "        h = learnt_initialization(X, np.array([y]).T, neurons, activation_function)\n",
    "        end_time = time.time() - init_time \n",
    "        \n",
    "        error = np.linalg.norm(h.predict(X_test_inside_scaled)[:,0] - y_test_inside, 2)\n",
    "        print('-'*3)\n",
    "        print(f'{i}, {neurons}, 1, 0, 0, {error:.3f}, {end_time:.3f}\\n')\n",
    "        f.write(f'{i}, {neurons}, 1, 0, 0, {error:.3f}, {end_time:.3f}\\n')\n",
    "        \n",
    "        for batch in [32,64]: #[1,16,32,64]:\n",
    "            for m_iter in range(1,30,20):\n",
    "\n",
    "                init_time = time.time()\n",
    "                clf = MLPRegressor(solver='sgd',\n",
    "                                    hidden_layer_sizes = (neurons,),\n",
    "                                    batch_size = batch,\n",
    "                                    alpha=0,\n",
    "                                    activation= activation_function, \n",
    "                                    max_iter = m_iter\n",
    "                ).fit(X_train, y_train)\n",
    "                end_time = time.time() - init_time \n",
    "\n",
    "                prediction_inner_test = clf.predict(X_test_inside_scaled)\n",
    "                error = np.linalg.norm(prediction_inner_test - y_test_inside, 2)\n",
    "\n",
    "                print(f'Experiment {i}, neurons: {neurons}, batch:{batch}, number of iteration {clf.n_iter_}, {error:.3f}, {end_time :.3f}'\n",
    "                    )\n",
    "                f.write(f'{i}, {neurons}, 0, {batch}, {clf.n_iter_}, {error:.3f}, {end_time :.3f}\\n')\n",
    "f.close()\n",
    "                "
   ]
  }
 ],
 "metadata": {
  "kernelspec": {
   "display_name": "tensorflow",
   "language": "python",
   "name": "python3"
  },
  "language_info": {
   "codemirror_mode": {
    "name": "ipython",
    "version": 3
   },
   "file_extension": ".py",
   "mimetype": "text/x-python",
   "name": "python",
   "nbconvert_exporter": "python",
   "pygments_lexer": "ipython3",
   "version": "3.9.7"
  },
  "orig_nbformat": 4,
  "vscode": {
   "interpreter": {
    "hash": "24dcaf82da949eb8a169ffe40fd331a23a642ab22de3e08713f616aa663d0868"
   }
  }
 },
 "nbformat": 4,
 "nbformat_minor": 2
}
